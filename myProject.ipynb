{
 "cells": [
  {
   "cell_type": "code",
   "execution_count": 56,
   "id": "2c74721f-ca37-4c12-a884-cf12a3715feb",
   "metadata": {},
   "outputs": [],
   "source": [
    "import pandas as pd\n",
    "import seaborn as sns\n",
    "from matplotlib import pyplot as plt\n",
    "import numpy as np\n",
    "from sklearn import preprocessing\n",
    "from scipy.stats import norm\n",
    "import sklearn\n",
    "from sklearn.preprocessing import StandardScaler\n",
    "from sklearn.metrics import precision_score\n",
    "from sklearn.metrics import recall_score\n",
    "from matplotlib.colors import ListedColormap\n",
    "from sklearn.datasets import load_boston\n",
    "import warnings\n",
    "from sklearn.neighbors import KNeighborsClassifier\n",
    "warnings.filterwarnings('ignore')\n",
    "from sklearn.metrics import accuracy_score\n",
    "from sklearn.metrics import confusion_matrix\n",
    "%matplotlib inline\n",
    "from sklearn.feature_selection import mutual_info_classif\n",
    "from sklearn.tree import DecisionTreeRegressor\n",
    "from sklearn.model_selection import train_test_split\n",
    "from sklearn.ensemble import RandomForestClassifier \n",
    "from sklearn.metrics import mean_absolute_error\n",
    "from sklearn.tree import DecisionTreeRegressor\n",
    "from prettytable import PrettyTable\n",
    "from sklearn.linear_model import LogisticRegression \n",
    "from sklearn.metrics import accuracy_score \n",
    "from numpy import set_printoptions\n",
    "from sklearn.feature_selection import SelectKBest\n",
    "from sklearn.feature_selection import f_classif\n",
    "from sklearn.datasets import load_iris\n",
    "from sklearn.ensemble import ExtraTreesClassifier\n",
    "from datetime import datetime, timedelta\n",
    "from sklearn.datasets import make_blobs\n",
    "from sklearn import svm, tree, linear_model, neighbors, naive_bayes, ensemble, discriminant_analysis, gaussian_process\n",
    "import matplotlib as mpl\n",
    "from sklearn import model_selection\n",
    "import matplotlib.pylab as pylab\n",
    "from sklearn.linear_model import LinearRegression \n",
    "from sklearn.svm import SVC"
   ]
  },
  {
   "cell_type": "code",
   "execution_count": 57,
   "id": "d16a9d5a-9956-4e88-b4ae-30dccfd9717b",
   "metadata": {},
   "outputs": [],
   "source": [
    "data = pd.read_csv(\"datatest.csv\")"
   ]
  },
  {
   "cell_type": "code",
   "execution_count": 58,
   "id": "5ee24030-4f2f-485d-8ade-9a7d89b8e018",
   "metadata": {},
   "outputs": [
    {
     "data": {
      "text/html": [
       "<div>\n",
       "<style scoped>\n",
       "    .dataframe tbody tr th:only-of-type {\n",
       "        vertical-align: middle;\n",
       "    }\n",
       "\n",
       "    .dataframe tbody tr th {\n",
       "        vertical-align: top;\n",
       "    }\n",
       "\n",
       "    .dataframe thead th {\n",
       "        text-align: right;\n",
       "    }\n",
       "</style>\n",
       "<table border=\"1\" class=\"dataframe\">\n",
       "  <thead>\n",
       "    <tr style=\"text-align: right;\">\n",
       "      <th></th>\n",
       "      <th>date</th>\n",
       "      <th>Temperature</th>\n",
       "      <th>Humidity</th>\n",
       "      <th>Light</th>\n",
       "      <th>CO2</th>\n",
       "      <th>HumidityRatio</th>\n",
       "      <th>Occupancy</th>\n",
       "    </tr>\n",
       "  </thead>\n",
       "  <tbody>\n",
       "    <tr>\n",
       "      <th>140</th>\n",
       "      <td>2015-02-02 14:19:00</td>\n",
       "      <td>23.7000</td>\n",
       "      <td>26.272</td>\n",
       "      <td>585.200000</td>\n",
       "      <td>749.200000</td>\n",
       "      <td>0.004764</td>\n",
       "      <td>1</td>\n",
       "    </tr>\n",
       "    <tr>\n",
       "      <th>141</th>\n",
       "      <td>2015-02-02 14:19:59</td>\n",
       "      <td>23.7180</td>\n",
       "      <td>26.290</td>\n",
       "      <td>578.400000</td>\n",
       "      <td>760.400000</td>\n",
       "      <td>0.004773</td>\n",
       "      <td>1</td>\n",
       "    </tr>\n",
       "    <tr>\n",
       "      <th>142</th>\n",
       "      <td>2015-02-02 14:21:00</td>\n",
       "      <td>23.7300</td>\n",
       "      <td>26.230</td>\n",
       "      <td>572.666667</td>\n",
       "      <td>769.666667</td>\n",
       "      <td>0.004765</td>\n",
       "      <td>1</td>\n",
       "    </tr>\n",
       "    <tr>\n",
       "      <th>143</th>\n",
       "      <td>2015-02-02 14:22:00</td>\n",
       "      <td>23.7225</td>\n",
       "      <td>26.125</td>\n",
       "      <td>493.750000</td>\n",
       "      <td>774.750000</td>\n",
       "      <td>0.004744</td>\n",
       "      <td>1</td>\n",
       "    </tr>\n",
       "    <tr>\n",
       "      <th>144</th>\n",
       "      <td>2015-02-02 14:23:00</td>\n",
       "      <td>23.7540</td>\n",
       "      <td>26.200</td>\n",
       "      <td>488.600000</td>\n",
       "      <td>779.000000</td>\n",
       "      <td>0.004767</td>\n",
       "      <td>1</td>\n",
       "    </tr>\n",
       "  </tbody>\n",
       "</table>\n",
       "</div>"
      ],
      "text/plain": [
       "                    date  Temperature  Humidity       Light         CO2  \\\n",
       "140  2015-02-02 14:19:00      23.7000    26.272  585.200000  749.200000   \n",
       "141  2015-02-02 14:19:59      23.7180    26.290  578.400000  760.400000   \n",
       "142  2015-02-02 14:21:00      23.7300    26.230  572.666667  769.666667   \n",
       "143  2015-02-02 14:22:00      23.7225    26.125  493.750000  774.750000   \n",
       "144  2015-02-02 14:23:00      23.7540    26.200  488.600000  779.000000   \n",
       "\n",
       "     HumidityRatio  Occupancy  \n",
       "140       0.004764          1  \n",
       "141       0.004773          1  \n",
       "142       0.004765          1  \n",
       "143       0.004744          1  \n",
       "144       0.004767          1  "
      ]
     },
     "execution_count": 58,
     "metadata": {},
     "output_type": "execute_result"
    }
   ],
   "source": [
    "data.head()"
   ]
  },
  {
   "cell_type": "code",
   "execution_count": 59,
   "id": "f8b57a2b-1e65-441e-9ab9-0f6e125b96d5",
   "metadata": {
    "scrolled": true
   },
   "outputs": [
    {
     "data": {
      "text/plain": [
       "date              object\n",
       "Temperature      float64\n",
       "Humidity         float64\n",
       "Light            float64\n",
       "CO2              float64\n",
       "HumidityRatio    float64\n",
       "Occupancy          int64\n",
       "dtype: object"
      ]
     },
     "execution_count": 59,
     "metadata": {},
     "output_type": "execute_result"
    }
   ],
   "source": [
    "data.dtypes"
   ]
  },
  {
   "cell_type": "code",
   "execution_count": 60,
   "id": "88b9a239-5897-4027-9df6-8b4f8f29b311",
   "metadata": {},
   "outputs": [
    {
     "name": "stdout",
     "output_type": "stream",
     "text": [
      "<class 'pandas.core.frame.DataFrame'>\n",
      "Int64Index: 2665 entries, 140 to 2804\n",
      "Data columns (total 7 columns):\n",
      " #   Column         Non-Null Count  Dtype  \n",
      "---  ------         --------------  -----  \n",
      " 0   date           2665 non-null   object \n",
      " 1   Temperature    2665 non-null   float64\n",
      " 2   Humidity       2665 non-null   float64\n",
      " 3   Light          2665 non-null   float64\n",
      " 4   CO2            2665 non-null   float64\n",
      " 5   HumidityRatio  2665 non-null   float64\n",
      " 6   Occupancy      2665 non-null   int64  \n",
      "dtypes: float64(5), int64(1), object(1)\n",
      "memory usage: 166.6+ KB\n"
     ]
    }
   ],
   "source": [
    "data.info()"
   ]
  },
  {
   "cell_type": "code",
   "execution_count": 61,
   "id": "3de3547f-509c-4960-8805-f12c9ae27e34",
   "metadata": {},
   "outputs": [
    {
     "data": {
      "text/plain": [
       "Index(['date', 'Temperature', 'Humidity', 'Light', 'CO2', 'HumidityRatio',\n",
       "       'Occupancy'],\n",
       "      dtype='object')"
      ]
     },
     "execution_count": 61,
     "metadata": {},
     "output_type": "execute_result"
    }
   ],
   "source": [
    "data.columns"
   ]
  },
  {
   "cell_type": "code",
   "execution_count": 62,
   "id": "e0a7e071-12c0-4725-b864-69ef64305670",
   "metadata": {},
   "outputs": [
    {
     "data": {
      "text/html": [
       "<div>\n",
       "<style scoped>\n",
       "    .dataframe tbody tr th:only-of-type {\n",
       "        vertical-align: middle;\n",
       "    }\n",
       "\n",
       "    .dataframe tbody tr th {\n",
       "        vertical-align: top;\n",
       "    }\n",
       "\n",
       "    .dataframe thead th {\n",
       "        text-align: right;\n",
       "    }\n",
       "</style>\n",
       "<table border=\"1\" class=\"dataframe\">\n",
       "  <thead>\n",
       "    <tr style=\"text-align: right;\">\n",
       "      <th></th>\n",
       "      <th>Temperature</th>\n",
       "      <th>Humidity</th>\n",
       "      <th>Light</th>\n",
       "      <th>CO2</th>\n",
       "      <th>HumidityRatio</th>\n",
       "      <th>Occupancy</th>\n",
       "    </tr>\n",
       "  </thead>\n",
       "  <tbody>\n",
       "    <tr>\n",
       "      <th>count</th>\n",
       "      <td>2665.000000</td>\n",
       "      <td>2665.000000</td>\n",
       "      <td>2665.000000</td>\n",
       "      <td>2665.000000</td>\n",
       "      <td>2665.000000</td>\n",
       "      <td>2665.000000</td>\n",
       "    </tr>\n",
       "    <tr>\n",
       "      <th>mean</th>\n",
       "      <td>21.433876</td>\n",
       "      <td>25.353937</td>\n",
       "      <td>193.227556</td>\n",
       "      <td>717.906470</td>\n",
       "      <td>0.004027</td>\n",
       "      <td>0.364728</td>\n",
       "    </tr>\n",
       "    <tr>\n",
       "      <th>std</th>\n",
       "      <td>1.028024</td>\n",
       "      <td>2.436842</td>\n",
       "      <td>250.210906</td>\n",
       "      <td>292.681718</td>\n",
       "      <td>0.000611</td>\n",
       "      <td>0.481444</td>\n",
       "    </tr>\n",
       "    <tr>\n",
       "      <th>min</th>\n",
       "      <td>20.200000</td>\n",
       "      <td>22.100000</td>\n",
       "      <td>0.000000</td>\n",
       "      <td>427.500000</td>\n",
       "      <td>0.003303</td>\n",
       "      <td>0.000000</td>\n",
       "    </tr>\n",
       "    <tr>\n",
       "      <th>25%</th>\n",
       "      <td>20.650000</td>\n",
       "      <td>23.260000</td>\n",
       "      <td>0.000000</td>\n",
       "      <td>466.000000</td>\n",
       "      <td>0.003529</td>\n",
       "      <td>0.000000</td>\n",
       "    </tr>\n",
       "    <tr>\n",
       "      <th>50%</th>\n",
       "      <td>20.890000</td>\n",
       "      <td>25.000000</td>\n",
       "      <td>0.000000</td>\n",
       "      <td>580.500000</td>\n",
       "      <td>0.003815</td>\n",
       "      <td>0.000000</td>\n",
       "    </tr>\n",
       "    <tr>\n",
       "      <th>75%</th>\n",
       "      <td>22.356667</td>\n",
       "      <td>26.856667</td>\n",
       "      <td>442.500000</td>\n",
       "      <td>956.333333</td>\n",
       "      <td>0.004532</td>\n",
       "      <td>1.000000</td>\n",
       "    </tr>\n",
       "    <tr>\n",
       "      <th>max</th>\n",
       "      <td>24.408333</td>\n",
       "      <td>31.472500</td>\n",
       "      <td>1697.250000</td>\n",
       "      <td>1402.250000</td>\n",
       "      <td>0.005378</td>\n",
       "      <td>1.000000</td>\n",
       "    </tr>\n",
       "  </tbody>\n",
       "</table>\n",
       "</div>"
      ],
      "text/plain": [
       "       Temperature     Humidity        Light          CO2  HumidityRatio  \\\n",
       "count  2665.000000  2665.000000  2665.000000  2665.000000    2665.000000   \n",
       "mean     21.433876    25.353937   193.227556   717.906470       0.004027   \n",
       "std       1.028024     2.436842   250.210906   292.681718       0.000611   \n",
       "min      20.200000    22.100000     0.000000   427.500000       0.003303   \n",
       "25%      20.650000    23.260000     0.000000   466.000000       0.003529   \n",
       "50%      20.890000    25.000000     0.000000   580.500000       0.003815   \n",
       "75%      22.356667    26.856667   442.500000   956.333333       0.004532   \n",
       "max      24.408333    31.472500  1697.250000  1402.250000       0.005378   \n",
       "\n",
       "         Occupancy  \n",
       "count  2665.000000  \n",
       "mean      0.364728  \n",
       "std       0.481444  \n",
       "min       0.000000  \n",
       "25%       0.000000  \n",
       "50%       0.000000  \n",
       "75%       1.000000  \n",
       "max       1.000000  "
      ]
     },
     "execution_count": 62,
     "metadata": {},
     "output_type": "execute_result"
    }
   ],
   "source": [
    "data.describe()"
   ]
  },
  {
   "cell_type": "code",
   "execution_count": 63,
   "id": "3de5a8f4-b8b1-4cde-8879-8cd5fe119203",
   "metadata": {},
   "outputs": [],
   "source": [
    "# Verilerin Görselleştirilmesi"
   ]
  },
  {
   "cell_type": "code",
   "execution_count": 64,
   "id": "eb273995-bb81-4bd1-92a7-f3ad43e1f911",
   "metadata": {
    "scrolled": false
   },
   "outputs": [
    {
     "data": {
      "text/html": [
       "<div>\n",
       "<style scoped>\n",
       "    .dataframe tbody tr th:only-of-type {\n",
       "        vertical-align: middle;\n",
       "    }\n",
       "\n",
       "    .dataframe tbody tr th {\n",
       "        vertical-align: top;\n",
       "    }\n",
       "\n",
       "    .dataframe thead th {\n",
       "        text-align: right;\n",
       "    }\n",
       "</style>\n",
       "<table border=\"1\" class=\"dataframe\">\n",
       "  <thead>\n",
       "    <tr style=\"text-align: right;\">\n",
       "      <th></th>\n",
       "      <th>date</th>\n",
       "      <th>Temperature</th>\n",
       "      <th>Humidity</th>\n",
       "      <th>Light</th>\n",
       "      <th>CO2</th>\n",
       "      <th>HumidityRatio</th>\n",
       "      <th>Occupancy</th>\n",
       "    </tr>\n",
       "  </thead>\n",
       "  <tbody>\n",
       "    <tr>\n",
       "      <th>140</th>\n",
       "      <td>2015-02-02 14:19:00</td>\n",
       "      <td>23.7000</td>\n",
       "      <td>26.272</td>\n",
       "      <td>585.200000</td>\n",
       "      <td>749.200000</td>\n",
       "      <td>0.004764</td>\n",
       "      <td>1</td>\n",
       "    </tr>\n",
       "    <tr>\n",
       "      <th>141</th>\n",
       "      <td>2015-02-02 14:19:59</td>\n",
       "      <td>23.7180</td>\n",
       "      <td>26.290</td>\n",
       "      <td>578.400000</td>\n",
       "      <td>760.400000</td>\n",
       "      <td>0.004773</td>\n",
       "      <td>1</td>\n",
       "    </tr>\n",
       "    <tr>\n",
       "      <th>142</th>\n",
       "      <td>2015-02-02 14:21:00</td>\n",
       "      <td>23.7300</td>\n",
       "      <td>26.230</td>\n",
       "      <td>572.666667</td>\n",
       "      <td>769.666667</td>\n",
       "      <td>0.004765</td>\n",
       "      <td>1</td>\n",
       "    </tr>\n",
       "    <tr>\n",
       "      <th>143</th>\n",
       "      <td>2015-02-02 14:22:00</td>\n",
       "      <td>23.7225</td>\n",
       "      <td>26.125</td>\n",
       "      <td>493.750000</td>\n",
       "      <td>774.750000</td>\n",
       "      <td>0.004744</td>\n",
       "      <td>1</td>\n",
       "    </tr>\n",
       "    <tr>\n",
       "      <th>144</th>\n",
       "      <td>2015-02-02 14:23:00</td>\n",
       "      <td>23.7540</td>\n",
       "      <td>26.200</td>\n",
       "      <td>488.600000</td>\n",
       "      <td>779.000000</td>\n",
       "      <td>0.004767</td>\n",
       "      <td>1</td>\n",
       "    </tr>\n",
       "  </tbody>\n",
       "</table>\n",
       "</div>"
      ],
      "text/plain": [
       "                    date  Temperature  Humidity       Light         CO2  \\\n",
       "140  2015-02-02 14:19:00      23.7000    26.272  585.200000  749.200000   \n",
       "141  2015-02-02 14:19:59      23.7180    26.290  578.400000  760.400000   \n",
       "142  2015-02-02 14:21:00      23.7300    26.230  572.666667  769.666667   \n",
       "143  2015-02-02 14:22:00      23.7225    26.125  493.750000  774.750000   \n",
       "144  2015-02-02 14:23:00      23.7540    26.200  488.600000  779.000000   \n",
       "\n",
       "     HumidityRatio  Occupancy  \n",
       "140       0.004764          1  \n",
       "141       0.004773          1  \n",
       "142       0.004765          1  \n",
       "143       0.004744          1  \n",
       "144       0.004767          1  "
      ]
     },
     "execution_count": 64,
     "metadata": {},
     "output_type": "execute_result"
    }
   ],
   "source": [
    "data.head()"
   ]
  },
  {
   "cell_type": "code",
   "execution_count": 65,
   "id": "05288fc0-1698-4ff9-8d84-312617a4ef31",
   "metadata": {},
   "outputs": [
    {
     "name": "stdout",
     "output_type": "stream",
     "text": [
      "                     date  Temperature   Humidity       Light          CO2  \\\n",
      "140   2015-02-02 14:19:00    23.700000  26.272000  585.200000   749.200000   \n",
      "141   2015-02-02 14:19:59    23.718000  26.290000  578.400000   760.400000   \n",
      "142   2015-02-02 14:21:00    23.730000  26.230000  572.666667   769.666667   \n",
      "143   2015-02-02 14:22:00    23.722500  26.125000  493.750000   774.750000   \n",
      "144   2015-02-02 14:23:00    23.754000  26.200000  488.600000   779.000000   \n",
      "...                   ...          ...        ...         ...          ...   \n",
      "2800  2015-02-04 10:38:59    24.290000  25.700000  808.000000  1150.250000   \n",
      "2801  2015-02-04 10:40:00    24.330000  25.736000  809.800000  1129.200000   \n",
      "2802  2015-02-04 10:40:59    24.330000  25.700000  817.000000  1125.800000   \n",
      "2803  2015-02-04 10:41:59    24.356667  25.700000  813.000000  1123.000000   \n",
      "2804  2015-02-04 10:43:00    24.408333  25.681667  798.000000  1124.000000   \n",
      "\n",
      "      HumidityRatio  Occupancy  \n",
      "140        0.004764          1  \n",
      "141        0.004773          1  \n",
      "142        0.004765          1  \n",
      "143        0.004744          1  \n",
      "144        0.004767          1  \n",
      "...             ...        ...  \n",
      "2800       0.004829          1  \n",
      "2801       0.004848          1  \n",
      "2802       0.004841          1  \n",
      "2803       0.004849          1  \n",
      "2804       0.004860          1  \n",
      "\n",
      "[2665 rows x 7 columns]\n"
     ]
    },
    {
     "data": {
      "text/plain": [
       "<AxesSubplot:xlabel='date', ylabel='Temperature'>"
      ]
     },
     "execution_count": 65,
     "metadata": {},
     "output_type": "execute_result"
    },
    {
     "data": {
      "image/png": "[encoded data removed]",
      "text/plain": [
       "<Figure size 432x288 with 1 Axes>"
      ]
     },
     "metadata": {
      "needs_background": "light"
     },
     "output_type": "display_data"
    }
   ],
   "source": [
    "print(data)\n",
    "sns.lineplot(data=data,x='date',y='Temperature')"
   ]
  },
  {
   "cell_type": "code",
   "execution_count": 66,
   "id": "cb97a891-668e-47b2-92e6-71dfc58fc6ad",
   "metadata": {},
   "outputs": [
    {
     "data": {
      "text/plain": [
       "<AxesSubplot:xlabel='date', ylabel='Humidity'>"
      ]
     },
     "execution_count": 66,
     "metadata": {},
     "output_type": "execute_result"
    },
    {
     "data": {
      "image/png": "[encoded data removed]",
      "text/plain": [
       "<Figure size 432x288 with 1 Axes>"
      ]
     },
     "metadata": {
      "needs_background": "light"
     },
     "output_type": "display_data"
    }
   ],
   "source": [
    "sns.lineplot(data=data,x='date',y='Humidity')"
   ]
  },
  {
   "cell_type": "code",
   "execution_count": 67,
   "id": "26bfa9fb-2282-474a-99ba-d5669326a3dc",
   "metadata": {},
   "outputs": [
    {
     "data": {
      "text/plain": [
       "<AxesSubplot:xlabel='date', ylabel='Light'>"
      ]
     },
     "execution_count": 67,
     "metadata": {},
     "output_type": "execute_result"
    },
    {
     "data": {
      "image/png": "[encoded data removed]",
      "text/plain": [
       "<Figure size 432x288 with 1 Axes>"
      ]
     },
     "metadata": {
      "needs_background": "light"
     },
     "output_type": "display_data"
    }
   ],
   "source": [
    "sns.lineplot(data=data,x='date',y='Light')"
   ]
  },
  {
   "cell_type": "code",
   "execution_count": 68,
   "id": "7080ada5-88e6-424d-ad7c-f089993332fe",
   "metadata": {},
   "outputs": [
    {
     "data": {
      "text/plain": [
       "<AxesSubplot:xlabel='date', ylabel='CO2'>"
      ]
     },
     "execution_count": 68,
     "metadata": {},
     "output_type": "execute_result"
    },
    {
     "data": {
      "image/png": "[encoded data removed]",
      "text/plain": [
       "<Figure size 432x288 with 1 Axes>"
      ]
     },
     "metadata": {
      "needs_background": "light"
     },
     "output_type": "display_data"
    }
   ],
   "source": [
    "sns.lineplot(data=data,x='date',y='CO2')"
   ]
  },
  {
   "cell_type": "code",
   "execution_count": 69,
   "id": "e0be781b-4329-46c0-b891-b7a6c7b1a5c1",
   "metadata": {},
   "outputs": [
    {
     "data": {
      "text/plain": [
       "<AxesSubplot:xlabel='date', ylabel='HumidityRatio'>"
      ]
     },
     "execution_count": 69,
     "metadata": {},
     "output_type": "execute_result"
    },
    {
     "data": {
      "image/png": "[encoded data removed]",
      "text/plain": [
       "<Figure size 432x288 with 1 Axes>"
      ]
     },
     "metadata": {
      "needs_background": "light"
     },
     "output_type": "display_data"
    }
   ],
   "source": [
    "sns.lineplot(data=data,x='date',y='HumidityRatio')"
   ]
  },
  {
   "cell_type": "code",
   "execution_count": 70,
   "id": "dc090e92-b4da-4af4-be3a-552a4657edbb",
   "metadata": {},
   "outputs": [
    {
     "data": {
      "text/plain": [
       "<AxesSubplot:xlabel='date', ylabel='Occupancy'>"
      ]
     },
     "execution_count": 70,
     "metadata": {},
     "output_type": "execute_result"
    },
    {
     "data": {
      "image/png": "[encoded data removed]",
      "text/plain": [
       "<Figure size 432x288 with 1 Axes>"
      ]
     },
     "metadata": {
      "needs_background": "light"
     },
     "output_type": "display_data"
    }
   ],
   "source": [
    "sns.lineplot(data=data,x='date',y='Occupancy')"
   ]
  },
  {
   "cell_type": "code",
   "execution_count": 71,
   "id": "12828bce-e689-4863-a1f2-c4c4ec7fd727",
   "metadata": {
    "scrolled": false
   },
   "outputs": [
    {
     "data": {
      "text/plain": [
       "<AxesSubplot:>"
      ]
     },
     "execution_count": 71,
     "metadata": {},
     "output_type": "execute_result"
    },
    {
     "data": {
      "image/png": "[encoded data removed]",
      "text/plain": [
       "<Figure size 720x576 with 2 Axes>"
      ]
     },
     "metadata": {
      "needs_background": "light"
     },
     "output_type": "display_data"
    }
   ],
   "source": [
    "f, ax = plt.subplots(figsize=(10, 8))\n",
    "corr = data.corr()\n",
    "sns.heatmap(corr, mask=np.zeros_like(corr, dtype=bool),\n",
    "            cmap=sns.diverging_palette(220, 10, as_cmap=True),\n",
    "            square=True, ax=ax)"
   ]
  },
  {
   "cell_type": "code",
   "execution_count": 72,
   "id": "6c340ae8",
   "metadata": {},
   "outputs": [
    {
     "data": {
      "image/png": "[encoded data removed]",
      "text/plain": [
       "<Figure size 432x288 with 2 Axes>"
      ]
     },
     "metadata": {
      "needs_background": "light"
     },
     "output_type": "display_data"
    }
   ],
   "source": [
    "sns.heatmap(corr, annot = True)\n",
    "plt.show()"
   ]
  },
  {
   "cell_type": "code",
   "execution_count": 73,
   "id": "f2a9d462",
   "metadata": {},
   "outputs": [
    {
     "data": {
      "text/html": [
       "<div>\n",
       "<style scoped>\n",
       "    .dataframe tbody tr th:only-of-type {\n",
       "        vertical-align: middle;\n",
       "    }\n",
       "\n",
       "    .dataframe tbody tr th {\n",
       "        vertical-align: top;\n",
       "    }\n",
       "\n",
       "    .dataframe thead th {\n",
       "        text-align: right;\n",
       "    }\n",
       "</style>\n",
       "<table border=\"1\" class=\"dataframe\">\n",
       "  <thead>\n",
       "    <tr style=\"text-align: right;\">\n",
       "      <th></th>\n",
       "      <th>date</th>\n",
       "      <th>Temperature</th>\n",
       "      <th>Humidity</th>\n",
       "      <th>Light</th>\n",
       "      <th>CO2</th>\n",
       "      <th>HumidityRatio</th>\n",
       "      <th>Occupancy</th>\n",
       "    </tr>\n",
       "  </thead>\n",
       "  <tbody>\n",
       "    <tr>\n",
       "      <th>140</th>\n",
       "      <td>2015-02-02 14:19:00</td>\n",
       "      <td>23.7000</td>\n",
       "      <td>26.272</td>\n",
       "      <td>585.200000</td>\n",
       "      <td>749.200000</td>\n",
       "      <td>0.004764</td>\n",
       "      <td>1</td>\n",
       "    </tr>\n",
       "    <tr>\n",
       "      <th>141</th>\n",
       "      <td>2015-02-02 14:19:59</td>\n",
       "      <td>23.7180</td>\n",
       "      <td>26.290</td>\n",
       "      <td>578.400000</td>\n",
       "      <td>760.400000</td>\n",
       "      <td>0.004773</td>\n",
       "      <td>1</td>\n",
       "    </tr>\n",
       "    <tr>\n",
       "      <th>142</th>\n",
       "      <td>2015-02-02 14:21:00</td>\n",
       "      <td>23.7300</td>\n",
       "      <td>26.230</td>\n",
       "      <td>572.666667</td>\n",
       "      <td>769.666667</td>\n",
       "      <td>0.004765</td>\n",
       "      <td>1</td>\n",
       "    </tr>\n",
       "    <tr>\n",
       "      <th>143</th>\n",
       "      <td>2015-02-02 14:22:00</td>\n",
       "      <td>23.7225</td>\n",
       "      <td>26.125</td>\n",
       "      <td>493.750000</td>\n",
       "      <td>774.750000</td>\n",
       "      <td>0.004744</td>\n",
       "      <td>1</td>\n",
       "    </tr>\n",
       "    <tr>\n",
       "      <th>144</th>\n",
       "      <td>2015-02-02 14:23:00</td>\n",
       "      <td>23.7540</td>\n",
       "      <td>26.200</td>\n",
       "      <td>488.600000</td>\n",
       "      <td>779.000000</td>\n",
       "      <td>0.004767</td>\n",
       "      <td>1</td>\n",
       "    </tr>\n",
       "  </tbody>\n",
       "</table>\n",
       "</div>"
      ],
      "text/plain": [
       "                    date  Temperature  Humidity       Light         CO2  \\\n",
       "140  2015-02-02 14:19:00      23.7000    26.272  585.200000  749.200000   \n",
       "141  2015-02-02 14:19:59      23.7180    26.290  578.400000  760.400000   \n",
       "142  2015-02-02 14:21:00      23.7300    26.230  572.666667  769.666667   \n",
       "143  2015-02-02 14:22:00      23.7225    26.125  493.750000  774.750000   \n",
       "144  2015-02-02 14:23:00      23.7540    26.200  488.600000  779.000000   \n",
       "\n",
       "     HumidityRatio  Occupancy  \n",
       "140       0.004764          1  \n",
       "141       0.004773          1  \n",
       "142       0.004765          1  \n",
       "143       0.004744          1  \n",
       "144       0.004767          1  "
      ]
     },
     "execution_count": 73,
     "metadata": {},
     "output_type": "execute_result"
    }
   ],
   "source": [
    "data.head()"
   ]
  },
  {
   "cell_type": "code",
   "execution_count": 74,
   "id": "222c9620",
   "metadata": {},
   "outputs": [
    {
     "data": {
      "text/plain": [
       "count    2665.000000\n",
       "mean       21.433876\n",
       "std         1.028024\n",
       "min        20.200000\n",
       "25%        20.650000\n",
       "50%        20.890000\n",
       "75%        22.356667\n",
       "max        24.408333\n",
       "Name: Temperature, dtype: float64"
      ]
     },
     "execution_count": 74,
     "metadata": {},
     "output_type": "execute_result"
    }
   ],
   "source": [
    "data['Temperature'].describe()"
   ]
  },
  {
   "cell_type": "code",
   "execution_count": 75,
   "id": "0e4e6933",
   "metadata": {},
   "outputs": [
    {
     "data": {
      "text/plain": [
       "count    2665.000000\n",
       "mean       25.353937\n",
       "std         2.436842\n",
       "min        22.100000\n",
       "25%        23.260000\n",
       "50%        25.000000\n",
       "75%        26.856667\n",
       "max        31.472500\n",
       "Name: Humidity, dtype: float64"
      ]
     },
     "execution_count": 75,
     "metadata": {},
     "output_type": "execute_result"
    }
   ],
   "source": [
    "data['Humidity'].describe()"
   ]
  },
  {
   "cell_type": "code",
   "execution_count": 76,
   "id": "05fd0a33",
   "metadata": {},
   "outputs": [
    {
     "data": {
      "text/plain": [
       "count    2665.000000\n",
       "mean      193.227556\n",
       "std       250.210906\n",
       "min         0.000000\n",
       "25%         0.000000\n",
       "50%         0.000000\n",
       "75%       442.500000\n",
       "max      1697.250000\n",
       "Name: Light, dtype: float64"
      ]
     },
     "execution_count": 76,
     "metadata": {},
     "output_type": "execute_result"
    }
   ],
   "source": [
    "data['Light'].describe()"
   ]
  },
  {
   "cell_type": "code",
   "execution_count": 77,
   "id": "4fb9a7da",
   "metadata": {},
   "outputs": [
    {
     "data": {
      "text/plain": [
       "count    2665.000000\n",
       "mean      717.906470\n",
       "std       292.681718\n",
       "min       427.500000\n",
       "25%       466.000000\n",
       "50%       580.500000\n",
       "75%       956.333333\n",
       "max      1402.250000\n",
       "Name: CO2, dtype: float64"
      ]
     },
     "execution_count": 77,
     "metadata": {},
     "output_type": "execute_result"
    }
   ],
   "source": [
    "data['CO2'].describe()"
   ]
  },
  {
   "cell_type": "code",
   "execution_count": 78,
   "id": "25c5b0f4",
   "metadata": {},
   "outputs": [
    {
     "data": {
      "text/plain": [
       "count    2665.000000\n",
       "mean        0.004027\n",
       "std         0.000611\n",
       "min         0.003303\n",
       "25%         0.003529\n",
       "50%         0.003815\n",
       "75%         0.004532\n",
       "max         0.005378\n",
       "Name: HumidityRatio, dtype: float64"
      ]
     },
     "execution_count": 78,
     "metadata": {},
     "output_type": "execute_result"
    }
   ],
   "source": [
    "data['HumidityRatio'].describe()"
   ]
  },
  {
   "cell_type": "code",
   "execution_count": 79,
   "id": "9729ed6c",
   "metadata": {},
   "outputs": [
    {
     "data": {
      "text/plain": [
       "count    2665.000000\n",
       "mean        0.364728\n",
       "std         0.481444\n",
       "min         0.000000\n",
       "25%         0.000000\n",
       "50%         0.000000\n",
       "75%         1.000000\n",
       "max         1.000000\n",
       "Name: Occupancy, dtype: float64"
      ]
     },
     "execution_count": 79,
     "metadata": {},
     "output_type": "execute_result"
    }
   ],
   "source": [
    "data['Occupancy'].describe()"
   ]
  },
  {
   "cell_type": "code",
   "execution_count": 80,
   "id": "b6efb8f1",
   "metadata": {
    "scrolled": true
   },
   "outputs": [
    {
     "data": {
      "image/png": "[encoded data removed]",
      "text/plain": [
       "<Figure size 432x288 with 1 Axes>"
      ]
     },
     "metadata": {
      "needs_background": "light"
     },
     "output_type": "display_data"
    }
   ],
   "source": [
    "sns.distplot(data['Temperature']);"
   ]
  },
  {
   "cell_type": "code",
   "execution_count": 81,
   "id": "371e30d2",
   "metadata": {
    "scrolled": true
   },
   "outputs": [
    {
     "name": "stdout",
     "output_type": "stream",
     "text": [
      "Skewness: 0.842562\n",
      "Kurtosis: -0.628995\n"
     ]
    }
   ],
   "source": [
    "print(\"Skewness: %f\" % data['Temperature'].skew())\n",
    "print(\"Kurtosis: %f\" % data['Temperature'].kurt())"
   ]
  },
  {
   "cell_type": "code",
   "execution_count": 82,
   "id": "4e3fdfb9",
   "metadata": {},
   "outputs": [
    {
     "data": {
      "image/png": "[encoded data removed]",
      "text/plain": [
       "<Figure size 432x288 with 1 Axes>"
      ]
     },
     "metadata": {
      "needs_background": "light"
     },
     "output_type": "display_data"
    }
   ],
   "source": [
    "sns.distplot(data['Humidity']);"
   ]
  },
  {
   "cell_type": "code",
   "execution_count": 83,
   "id": "04d6818f",
   "metadata": {},
   "outputs": [
    {
     "name": "stdout",
     "output_type": "stream",
     "text": [
      "Skewness: 0.672762\n",
      "Kurtosis: -0.272580\n"
     ]
    }
   ],
   "source": [
    "print(\"Skewness: %f\" % data['Humidity'].skew())\n",
    "print(\"Kurtosis: %f\" % data['Humidity'].kurt())"
   ]
  },
  {
   "cell_type": "code",
   "execution_count": 84,
   "id": "4fb9a723",
   "metadata": {},
   "outputs": [
    {
     "data": {
      "image/png": "[encoded data removed]",
      "text/plain": [
       "<Figure size 432x288 with 1 Axes>"
      ]
     },
     "metadata": {
      "needs_background": "light"
     },
     "output_type": "display_data"
    }
   ],
   "source": [
    "sns.distplot(data['Light']);"
   ]
  },
  {
   "cell_type": "code",
   "execution_count": 85,
   "id": "b4ceb04d",
   "metadata": {},
   "outputs": [
    {
     "name": "stdout",
     "output_type": "stream",
     "text": [
      "Skewness: 0.759940\n",
      "Kurtosis: -0.538937\n"
     ]
    }
   ],
   "source": [
    "print(\"Skewness: %f\" % data['Light'].skew())\n",
    "print(\"Kurtosis: %f\" % data['Light'].kurt())"
   ]
  },
  {
   "cell_type": "code",
   "execution_count": 86,
   "id": "347a0903",
   "metadata": {},
   "outputs": [
    {
     "data": {
      "image/png": "[encoded data removed]",
      "text/plain": [
       "<Figure size 432x288 with 1 Axes>"
      ]
     },
     "metadata": {
      "needs_background": "light"
     },
     "output_type": "display_data"
    }
   ],
   "source": [
    "sns.distplot(data['CO2']);"
   ]
  },
  {
   "cell_type": "code",
   "execution_count": 87,
   "id": "7e5fcc89",
   "metadata": {},
   "outputs": [
    {
     "name": "stdout",
     "output_type": "stream",
     "text": [
      "Skewness: 0.787597\n",
      "Kurtosis: -0.727056\n"
     ]
    }
   ],
   "source": [
    "print(\"Skewness: %f\" % data['CO2'].skew())\n",
    "print(\"Kurtosis: %f\" % data['CO2'].kurt())"
   ]
  },
  {
   "cell_type": "code",
   "execution_count": 88,
   "id": "057601d9",
   "metadata": {},
   "outputs": [
    {
     "data": {
      "image/png": "[encoded data removed]",
      "text/plain": [
       "<Figure size 432x288 with 1 Axes>"
      ]
     },
     "metadata": {
      "needs_background": "light"
     },
     "output_type": "display_data"
    }
   ],
   "source": [
    "sns.distplot(data['HumidityRatio']);"
   ]
  },
  {
   "cell_type": "code",
   "execution_count": 89,
   "id": "9e1e014c",
   "metadata": {},
   "outputs": [
    {
     "name": "stdout",
     "output_type": "stream",
     "text": [
      "Skewness: 0.649385\n",
      "Kurtosis: -0.729942\n"
     ]
    }
   ],
   "source": [
    "print(\"Skewness: %f\" % data['HumidityRatio'].skew())\n",
    "print(\"Kurtosis: %f\" % data['HumidityRatio'].kurt())"
   ]
  },
  {
   "cell_type": "code",
   "execution_count": 90,
   "id": "01ed1bd7",
   "metadata": {
    "scrolled": false
   },
   "outputs": [
    {
     "data": {
      "image/png": "[encoded data removed]",
      "text/plain": [
       "<Figure size 432x288 with 1 Axes>"
      ]
     },
     "metadata": {
      "needs_background": "light"
     },
     "output_type": "display_data"
    }
   ],
   "source": [
    "sns.distplot(data['Occupancy']);"
   ]
  },
  {
   "cell_type": "code",
   "execution_count": 91,
   "id": "0e42d2b9",
   "metadata": {
    "scrolled": false
   },
   "outputs": [
    {
     "name": "stdout",
     "output_type": "stream",
     "text": [
      "Skewness: 0.562365\n",
      "Kurtosis: -1.685011\n",
      "                     date  Temperature   Humidity       Light          CO2  \\\n",
      "140   2015-02-02 14:19:00    23.700000  26.272000  585.200000   749.200000   \n",
      "141   2015-02-02 14:19:59    23.718000  26.290000  578.400000   760.400000   \n",
      "142   2015-02-02 14:21:00    23.730000  26.230000  572.666667   769.666667   \n",
      "143   2015-02-02 14:22:00    23.722500  26.125000  493.750000   774.750000   \n",
      "144   2015-02-02 14:23:00    23.754000  26.200000  488.600000   779.000000   \n",
      "...                   ...          ...        ...         ...          ...   \n",
      "2800  2015-02-04 10:38:59    24.290000  25.700000  808.000000  1150.250000   \n",
      "2801  2015-02-04 10:40:00    24.330000  25.736000  809.800000  1129.200000   \n",
      "2802  2015-02-04 10:40:59    24.330000  25.700000  817.000000  1125.800000   \n",
      "2803  2015-02-04 10:41:59    24.356667  25.700000  813.000000  1123.000000   \n",
      "2804  2015-02-04 10:43:00    24.408333  25.681667  798.000000  1124.000000   \n",
      "\n",
      "      HumidityRatio  Occupancy  \n",
      "140        0.004764          1  \n",
      "141        0.004773          1  \n",
      "142        0.004765          1  \n",
      "143        0.004744          1  \n",
      "144        0.004767          1  \n",
      "...             ...        ...  \n",
      "2800       0.004829          1  \n",
      "2801       0.004848          1  \n",
      "2802       0.004841          1  \n",
      "2803       0.004849          1  \n",
      "2804       0.004860          1  \n",
      "\n",
      "[2665 rows x 7 columns]\n"
     ]
    }
   ],
   "source": [
    "print(\"Skewness: %f\" % data['Occupancy'].skew())\n",
    "print(\"Kurtosis: %f\" % data['Occupancy'].kurt())\n",
    "print(data)"
   ]
  },
  {
   "cell_type": "code",
   "execution_count": 92,
   "id": "82406c17",
   "metadata": {},
   "outputs": [],
   "source": [
    "data.loc[data['Temperature'] < 15 ,'Temperature'] = 20.200000\n",
    "data.loc[data['Temperature'] > 25,'Temperature'] = 20.200000"
   ]
  },
  {
   "cell_type": "code",
   "execution_count": 93,
   "id": "70850c3b",
   "metadata": {},
   "outputs": [],
   "source": [
    "data.loc[data['Humidity'] < 20.5,'Humidity'] = 25.353937\n",
    "data.loc[data['Humidity'] >33.0,'Humidity'] = 25.353937"
   ]
  },
  {
   "cell_type": "code",
   "execution_count": 94,
   "id": "96900d78",
   "metadata": {},
   "outputs": [],
   "source": [
    "data.loc[data['Light'] < -150,'Light'] = 193.227556\n",
    "data.loc[data['Light'] > 1800,'Light'] = 193.227556"
   ]
  },
  {
   "cell_type": "code",
   "execution_count": 95,
   "id": "c77f6ce2",
   "metadata": {},
   "outputs": [],
   "source": [
    "data.loc[data['CO2'] < 220,'CO2'] = 20.200000\n",
    "data.loc[data['CO2'] > 1600 ,'CO2'] = 20.200000"
   ]
  },
  {
   "cell_type": "code",
   "execution_count": 96,
   "id": "25bbfc03",
   "metadata": {},
   "outputs": [],
   "source": [
    "data.loc[data['HumidityRatio'] < 0.0025,'HumidityRatio'] = 0.004027\n",
    "data.loc[data['HumidityRatio'] > 0.0065 ,'HumidityRatio'] = 0.004027"
   ]
  },
  {
   "cell_type": "code",
   "execution_count": 97,
   "id": "d0975a80",
   "metadata": {},
   "outputs": [],
   "source": [
    "data.loc[data['Occupancy'] < -0.4,'Occupancy'] = 0.364728\n",
    "data.loc[data['Occupancy'] > 1.4 ,'Occupancy'] = 0.364728"
   ]
  },
  {
   "cell_type": "code",
   "execution_count": 98,
   "id": "4a915577",
   "metadata": {},
   "outputs": [
    {
     "data": {
      "text/plain": [
       "False"
      ]
     },
     "execution_count": 98,
     "metadata": {},
     "output_type": "execute_result"
    }
   ],
   "source": [
    "data.isnull().values.any()"
   ]
  },
  {
   "cell_type": "code",
   "execution_count": 99,
   "id": "cb9885c3",
   "metadata": {},
   "outputs": [],
   "source": [
    "feature_names = ['Temperature', 'Humidity', 'Light', 'CO2', 'HumidityRatio', 'Occupancy']\n",
    "X = data[feature_names]\n",
    "y = data.Occupancy"
   ]
  },
  {
   "cell_type": "code",
   "execution_count": 100,
   "id": "8b27392f",
   "metadata": {},
   "outputs": [],
   "source": [
    "iris_dataset = load_iris()\n",
    "X = iris_dataset.data\n",
    "y = iris_dataset.target"
   ]
  },
  {
   "cell_type": "code",
   "execution_count": 101,
   "id": "82190608",
   "metadata": {},
   "outputs": [],
   "source": [
    "X = X.astype(int)"
   ]
  },
  {
   "cell_type": "code",
   "execution_count": 102,
   "id": "be0b0bba",
   "metadata": {},
   "outputs": [
    {
     "data": {
      "text/plain": [
       "ExtraTreesClassifier(criterion='entropy', max_features=2, n_estimators=5)"
      ]
     },
     "execution_count": 102,
     "metadata": {},
     "output_type": "execute_result"
    }
   ],
   "source": [
    "extra_tree_forest = ExtraTreesClassifier(n_estimators = 5,\n",
    "                                        criterion ='entropy', max_features = 2)\n",
    "  \n",
    "extra_tree_forest.fit(X, y)"
   ]
  },
  {
   "cell_type": "code",
   "execution_count": 103,
   "id": "f36b8908",
   "metadata": {},
   "outputs": [],
   "source": [
    "feature_importance = extra_tree_forest.feature_importances_\n",
    "  \n",
    "feature_importance_normalized = np.std([tree.feature_importances_ for tree in \n",
    "                                        extra_tree_forest.estimators_],\n",
    "                                        axis = 0)"
   ]
  },
  {
   "cell_type": "code",
   "execution_count": 104,
   "id": "c716e317",
   "metadata": {},
   "outputs": [
    {
     "data": {
      "image/png": "[encoded data removed]",
      "text/plain": [
       "<Figure size 432x288 with 1 Axes>"
      ]
     },
     "metadata": {
      "needs_background": "light"
     },
     "output_type": "display_data"
    }
   ],
   "source": [
    "plt.bar(iris_dataset.feature_names, feature_importance_normalized)\n",
    "plt.xlabel('Feature Labels')\n",
    "plt.ylabel('Feature Importances')\n",
    "plt.title('Comparison of different Feature Importances')\n",
    "plt.show()"
   ]
  },
  {
   "cell_type": "code",
   "execution_count": 105,
   "id": "120eeaf6",
   "metadata": {},
   "outputs": [
    {
     "name": "stdout",
     "output_type": "stream",
     "text": [
      "The original range : 2015-02-02 00:00:00 2015-02-04 00:00:00\n",
      "Total business days in range : 2\n"
     ]
    }
   ],
   "source": [
    "test_date1, test_date2 = datetime(2015, 2, 2), datetime(2015, 2, 4)\n",
    "  \n",
    "# printing dates\n",
    "print(\"The original range : \" + str(test_date1) + \" \" + str(test_date2))\n",
    "  \n",
    "# generating dates\n",
    "dates = (test_date1 + timedelta(idx + 1)\n",
    "         for idx in range((test_date2 - test_date1).days))\n",
    "  \n",
    "# summing all weekdays\n",
    "res = sum(1 for day in dates if day.weekday() < 5)\n",
    "  \n",
    "# printing\n",
    "print(\"Total business days in range : \" + str(res))"
   ]
  },
  {
   "cell_type": "code",
   "execution_count": 106,
   "id": "ea593521",
   "metadata": {},
   "outputs": [
    {
     "data": {
      "text/plain": [
       "2015-02-02    0\n",
       "2015-02-03    1\n",
       "2015-02-04    2\n",
       "Freq: D, dtype: int64"
      ]
     },
     "execution_count": 106,
     "metadata": {},
     "output_type": "execute_result"
    }
   ],
   "source": [
    "s = pd.date_range('2015-02-02', '2015-02-04', freq='D').to_series()\n",
    "s.dt.dayofweek"
   ]
  },
  {
   "cell_type": "code",
   "execution_count": 107,
   "id": "49206bd4",
   "metadata": {},
   "outputs": [],
   "source": [
    "X_train, X_test, y_train, y_test = train_test_split(X, y, test_size=0.30, random_state=23)"
   ]
  },
  {
   "cell_type": "code",
   "execution_count": 109,
   "id": "dd9b88d1",
   "metadata": {},
   "outputs": [
    {
     "name": "stdout",
     "output_type": "stream",
     "text": [
      "Confusion Matrix : \n",
      " [[316  13]\n",
      " [  0 204]]\n",
      "Accuracy :  0.975609756097561\n",
      "Precision:  0.9400921658986175\n",
      "Recall:  1.0\n"
     ]
    }
   ],
   "source": [
    "X = data.iloc[:,1:6]\n",
    "y = data['Occupancy']\n",
    "num_test = 0.20\n",
    "X_train, X_test, y_train, y_test = train_test_split(X, y, test_size=num_test, random_state=23)\n",
    "regressor = LinearRegression()\n",
    "regressor.fit(X_test, y_test)\n",
    "classifier = LogisticRegression(random_state = 0)\n",
    "classifier.fit(X_test, y_test)\n",
    "y_pred = classifier.predict(X_test)\n",
    "cm1 = confusion_matrix(y_test, y_pred)\n",
    "ac1 = accuracy_score(y_test, y_pred)\n",
    "pre1 = precision_score(y_test, y_pred)\n",
    "rec1 = recall_score(y_test, y_pred)\n",
    " \n",
    "print (\"Confusion Matrix : \\n\", cm1)\n",
    "print (\"Accuracy : \", ac1)\n",
    "print (\"Precision: \", pre1)\n",
    "print (\"Recall: \", rec1)\n"
   ]
  },
  {
   "cell_type": "code",
   "execution_count": 110,
   "id": "ef6e1b7d",
   "metadata": {},
   "outputs": [
    {
     "name": "stdout",
     "output_type": "stream",
     "text": [
      "+--------------------+\n",
      "|      Results       |\n",
      "+--------------------+\n",
      "| 0.975609756097561  |\n",
      "|     [[316  13]     |\n",
      "|     [  0 204]]     |\n",
      "| 0.9400921658986175 |\n",
      "|        1.0         |\n",
      "+--------------------+\n"
     ]
    }
   ],
   "source": [
    "myTable = PrettyTable([\"Results\"])\n",
    " \n",
    "myTable.add_row([ac1])\n",
    "myTable.add_row([cm1])\n",
    "myTable.add_row([pre1])\n",
    "myTable.add_row([rec1])\n",
    " \n",
    "print(myTable)"
   ]
  },
  {
   "cell_type": "code",
   "execution_count": 111,
   "id": "790fa62e",
   "metadata": {},
   "outputs": [],
   "source": [
    "def get_mae(max_leaf_nodes, X_train, X_test, y_train, y_test):\n",
    "    model = DecisionTreeRegressor(max_leaf_nodes=max_leaf_nodes, random_state=0)\n",
    "    model.fit(X_train, y_train)\n",
    "    y_pred = model.predict(X_test)\n",
    "    mae = mean_absolute_error(y_test, y_pred)\n",
    "    return(mae)"
   ]
  },
  {
   "cell_type": "code",
   "execution_count": 112,
   "id": "fd77cbbd",
   "metadata": {},
   "outputs": [
    {
     "name": "stdout",
     "output_type": "stream",
     "text": [
      "Max leaf nodes: 5  \t\t Mean Absolute Error:  0\n",
      "Max leaf nodes: 50  \t\t Mean Absolute Error:  0\n",
      "Max leaf nodes: 500  \t\t Mean Absolute Error:  0\n",
      "Max leaf nodes: 5000  \t\t Mean Absolute Error:  0\n"
     ]
    }
   ],
   "source": [
    "for max_leaf_nodes in [5, 50, 500, 5000]:\n",
    "    my_mae = get_mae(max_leaf_nodes, X_train, X_test, y_train, y_test)\n",
    "    print(\"Max leaf nodes: %d  \\t\\t Mean Absolute Error:  %d\" %(max_leaf_nodes, my_mae))"
   ]
  },
  {
   "cell_type": "code",
   "execution_count": 113,
   "id": "a0ea06b1",
   "metadata": {},
   "outputs": [],
   "source": [
    "data2 = pd.read_csv(\"datatest2.csv\")"
   ]
  },
  {
   "cell_type": "code",
   "execution_count": 114,
   "id": "f8434728",
   "metadata": {},
   "outputs": [
    {
     "data": {
      "text/html": [
       "<div>\n",
       "<style scoped>\n",
       "    .dataframe tbody tr th:only-of-type {\n",
       "        vertical-align: middle;\n",
       "    }\n",
       "\n",
       "    .dataframe tbody tr th {\n",
       "        vertical-align: top;\n",
       "    }\n",
       "\n",
       "    .dataframe thead th {\n",
       "        text-align: right;\n",
       "    }\n",
       "</style>\n",
       "<table border=\"1\" class=\"dataframe\">\n",
       "  <thead>\n",
       "    <tr style=\"text-align: right;\">\n",
       "      <th></th>\n",
       "      <th>date</th>\n",
       "      <th>Temperature</th>\n",
       "      <th>Humidity</th>\n",
       "      <th>Light</th>\n",
       "      <th>CO2</th>\n",
       "      <th>HumidityRatio</th>\n",
       "      <th>Occupancy</th>\n",
       "    </tr>\n",
       "  </thead>\n",
       "  <tbody>\n",
       "    <tr>\n",
       "      <th>1</th>\n",
       "      <td>2015-02-11 14:48:00</td>\n",
       "      <td>21.7600</td>\n",
       "      <td>31.133333</td>\n",
       "      <td>437.333333</td>\n",
       "      <td>1029.666667</td>\n",
       "      <td>0.005021</td>\n",
       "      <td>1</td>\n",
       "    </tr>\n",
       "    <tr>\n",
       "      <th>2</th>\n",
       "      <td>2015-02-11 14:49:00</td>\n",
       "      <td>21.7900</td>\n",
       "      <td>31.000000</td>\n",
       "      <td>437.333333</td>\n",
       "      <td>1000.000000</td>\n",
       "      <td>0.005009</td>\n",
       "      <td>1</td>\n",
       "    </tr>\n",
       "    <tr>\n",
       "      <th>3</th>\n",
       "      <td>2015-02-11 14:50:00</td>\n",
       "      <td>21.7675</td>\n",
       "      <td>31.122500</td>\n",
       "      <td>434.000000</td>\n",
       "      <td>1003.750000</td>\n",
       "      <td>0.005022</td>\n",
       "      <td>1</td>\n",
       "    </tr>\n",
       "    <tr>\n",
       "      <th>4</th>\n",
       "      <td>2015-02-11 14:51:00</td>\n",
       "      <td>21.7675</td>\n",
       "      <td>31.122500</td>\n",
       "      <td>439.000000</td>\n",
       "      <td>1009.500000</td>\n",
       "      <td>0.005022</td>\n",
       "      <td>1</td>\n",
       "    </tr>\n",
       "    <tr>\n",
       "      <th>5</th>\n",
       "      <td>2015-02-11 14:51:59</td>\n",
       "      <td>21.7900</td>\n",
       "      <td>31.133333</td>\n",
       "      <td>437.333333</td>\n",
       "      <td>1005.666667</td>\n",
       "      <td>0.005030</td>\n",
       "      <td>1</td>\n",
       "    </tr>\n",
       "  </tbody>\n",
       "</table>\n",
       "</div>"
      ],
      "text/plain": [
       "                  date  Temperature   Humidity       Light          CO2  \\\n",
       "1  2015-02-11 14:48:00      21.7600  31.133333  437.333333  1029.666667   \n",
       "2  2015-02-11 14:49:00      21.7900  31.000000  437.333333  1000.000000   \n",
       "3  2015-02-11 14:50:00      21.7675  31.122500  434.000000  1003.750000   \n",
       "4  2015-02-11 14:51:00      21.7675  31.122500  439.000000  1009.500000   \n",
       "5  2015-02-11 14:51:59      21.7900  31.133333  437.333333  1005.666667   \n",
       "\n",
       "   HumidityRatio  Occupancy  \n",
       "1       0.005021          1  \n",
       "2       0.005009          1  \n",
       "3       0.005022          1  \n",
       "4       0.005022          1  \n",
       "5       0.005030          1  "
      ]
     },
     "execution_count": 114,
     "metadata": {},
     "output_type": "execute_result"
    }
   ],
   "source": [
    "data2.head()"
   ]
  },
  {
   "cell_type": "code",
   "execution_count": 115,
   "id": "ac131c7d",
   "metadata": {},
   "outputs": [
    {
     "data": {
      "text/plain": [
       "date              object\n",
       "Temperature      float64\n",
       "Humidity         float64\n",
       "Light            float64\n",
       "CO2              float64\n",
       "HumidityRatio    float64\n",
       "Occupancy          int64\n",
       "dtype: object"
      ]
     },
     "execution_count": 115,
     "metadata": {},
     "output_type": "execute_result"
    }
   ],
   "source": [
    "data2.dtypes"
   ]
  },
  {
   "cell_type": "code",
   "execution_count": 116,
   "id": "e826b152",
   "metadata": {},
   "outputs": [
    {
     "name": "stdout",
     "output_type": "stream",
     "text": [
      "<class 'pandas.core.frame.DataFrame'>\n",
      "Int64Index: 9752 entries, 1 to 9752\n",
      "Data columns (total 7 columns):\n",
      " #   Column         Non-Null Count  Dtype  \n",
      "---  ------         --------------  -----  \n",
      " 0   date           9752 non-null   object \n",
      " 1   Temperature    9752 non-null   float64\n",
      " 2   Humidity       9752 non-null   float64\n",
      " 3   Light          9752 non-null   float64\n",
      " 4   CO2            9752 non-null   float64\n",
      " 5   HumidityRatio  9752 non-null   float64\n",
      " 6   Occupancy      9752 non-null   int64  \n",
      "dtypes: float64(5), int64(1), object(1)\n",
      "memory usage: 609.5+ KB\n"
     ]
    }
   ],
   "source": [
    "data2.info()"
   ]
  },
  {
   "cell_type": "code",
   "execution_count": 117,
   "id": "244e7569",
   "metadata": {},
   "outputs": [
    {
     "data": {
      "text/plain": [
       "Index(['date', 'Temperature', 'Humidity', 'Light', 'CO2', 'HumidityRatio',\n",
       "       'Occupancy'],\n",
       "      dtype='object')"
      ]
     },
     "execution_count": 117,
     "metadata": {},
     "output_type": "execute_result"
    }
   ],
   "source": [
    "data2.columns"
   ]
  },
  {
   "cell_type": "code",
   "execution_count": 118,
   "id": "628be4d1",
   "metadata": {},
   "outputs": [
    {
     "data": {
      "text/html": [
       "<div>\n",
       "<style scoped>\n",
       "    .dataframe tbody tr th:only-of-type {\n",
       "        vertical-align: middle;\n",
       "    }\n",
       "\n",
       "    .dataframe tbody tr th {\n",
       "        vertical-align: top;\n",
       "    }\n",
       "\n",
       "    .dataframe thead th {\n",
       "        text-align: right;\n",
       "    }\n",
       "</style>\n",
       "<table border=\"1\" class=\"dataframe\">\n",
       "  <thead>\n",
       "    <tr style=\"text-align: right;\">\n",
       "      <th></th>\n",
       "      <th>Temperature</th>\n",
       "      <th>Humidity</th>\n",
       "      <th>Light</th>\n",
       "      <th>CO2</th>\n",
       "      <th>HumidityRatio</th>\n",
       "      <th>Occupancy</th>\n",
       "    </tr>\n",
       "  </thead>\n",
       "  <tbody>\n",
       "    <tr>\n",
       "      <th>count</th>\n",
       "      <td>9752.000000</td>\n",
       "      <td>9752.000000</td>\n",
       "      <td>9752.000000</td>\n",
       "      <td>9752.000000</td>\n",
       "      <td>9752.000000</td>\n",
       "      <td>9752.000000</td>\n",
       "    </tr>\n",
       "    <tr>\n",
       "      <th>mean</th>\n",
       "      <td>21.001768</td>\n",
       "      <td>29.891910</td>\n",
       "      <td>123.067930</td>\n",
       "      <td>753.224832</td>\n",
       "      <td>0.004589</td>\n",
       "      <td>0.210111</td>\n",
       "    </tr>\n",
       "    <tr>\n",
       "      <th>std</th>\n",
       "      <td>1.020693</td>\n",
       "      <td>3.952844</td>\n",
       "      <td>208.221275</td>\n",
       "      <td>297.096114</td>\n",
       "      <td>0.000531</td>\n",
       "      <td>0.407408</td>\n",
       "    </tr>\n",
       "    <tr>\n",
       "      <th>min</th>\n",
       "      <td>19.500000</td>\n",
       "      <td>21.865000</td>\n",
       "      <td>0.000000</td>\n",
       "      <td>484.666667</td>\n",
       "      <td>0.003275</td>\n",
       "      <td>0.000000</td>\n",
       "    </tr>\n",
       "    <tr>\n",
       "      <th>25%</th>\n",
       "      <td>20.290000</td>\n",
       "      <td>26.642083</td>\n",
       "      <td>0.000000</td>\n",
       "      <td>542.312500</td>\n",
       "      <td>0.004196</td>\n",
       "      <td>0.000000</td>\n",
       "    </tr>\n",
       "    <tr>\n",
       "      <th>50%</th>\n",
       "      <td>20.790000</td>\n",
       "      <td>30.200000</td>\n",
       "      <td>0.000000</td>\n",
       "      <td>639.000000</td>\n",
       "      <td>0.004593</td>\n",
       "      <td>0.000000</td>\n",
       "    </tr>\n",
       "    <tr>\n",
       "      <th>75%</th>\n",
       "      <td>21.533333</td>\n",
       "      <td>32.700000</td>\n",
       "      <td>208.250000</td>\n",
       "      <td>831.125000</td>\n",
       "      <td>0.004998</td>\n",
       "      <td>0.000000</td>\n",
       "    </tr>\n",
       "    <tr>\n",
       "      <th>max</th>\n",
       "      <td>24.390000</td>\n",
       "      <td>39.500000</td>\n",
       "      <td>1581.000000</td>\n",
       "      <td>2076.500000</td>\n",
       "      <td>0.005769</td>\n",
       "      <td>1.000000</td>\n",
       "    </tr>\n",
       "  </tbody>\n",
       "</table>\n",
       "</div>"
      ],
      "text/plain": [
       "       Temperature     Humidity        Light          CO2  HumidityRatio  \\\n",
       "count  9752.000000  9752.000000  9752.000000  9752.000000    9752.000000   \n",
       "mean     21.001768    29.891910   123.067930   753.224832       0.004589   \n",
       "std       1.020693     3.952844   208.221275   297.096114       0.000531   \n",
       "min      19.500000    21.865000     0.000000   484.666667       0.003275   \n",
       "25%      20.290000    26.642083     0.000000   542.312500       0.004196   \n",
       "50%      20.790000    30.200000     0.000000   639.000000       0.004593   \n",
       "75%      21.533333    32.700000   208.250000   831.125000       0.004998   \n",
       "max      24.390000    39.500000  1581.000000  2076.500000       0.005769   \n",
       "\n",
       "         Occupancy  \n",
       "count  9752.000000  \n",
       "mean      0.210111  \n",
       "std       0.407408  \n",
       "min       0.000000  \n",
       "25%       0.000000  \n",
       "50%       0.000000  \n",
       "75%       0.000000  \n",
       "max       1.000000  "
      ]
     },
     "execution_count": 118,
     "metadata": {},
     "output_type": "execute_result"
    }
   ],
   "source": [
    "data2.describe()"
   ]
  },
  {
   "cell_type": "code",
   "execution_count": 119,
   "id": "655ece71",
   "metadata": {},
   "outputs": [],
   "source": [
    "# Verilerin Görselleştirilmesi"
   ]
  },
  {
   "cell_type": "code",
   "execution_count": 120,
   "id": "bb4e63e2",
   "metadata": {
    "scrolled": false
   },
   "outputs": [
    {
     "data": {
      "text/plain": [
       "<AxesSubplot:xlabel='date', ylabel='Temperature'>"
      ]
     },
     "execution_count": 120,
     "metadata": {},
     "output_type": "execute_result"
    },
    {
     "data": {
      "image/png": "[encoded data removed]",
      "text/plain": [
       "<Figure size 432x288 with 1 Axes>"
      ]
     },
     "metadata": {
      "needs_background": "light"
     },
     "output_type": "display_data"
    }
   ],
   "source": [
    "sns.lineplot(data=data2,x='date',y='Temperature')"
   ]
  },
  {
   "cell_type": "code",
   "execution_count": 121,
   "id": "a6714fd9",
   "metadata": {},
   "outputs": [
    {
     "data": {
      "text/plain": [
       "<AxesSubplot:xlabel='date', ylabel='Humidity'>"
      ]
     },
     "execution_count": 121,
     "metadata": {},
     "output_type": "execute_result"
    },
    {
     "data": {
      "image/png": "[encoded data removed]",
      "text/plain": [
       "<Figure size 432x288 with 1 Axes>"
      ]
     },
     "metadata": {
      "needs_background": "light"
     },
     "output_type": "display_data"
    }
   ],
   "source": [
    "sns.lineplot(data=data2,x='date',y='Humidity')"
   ]
  },
  {
   "cell_type": "code",
   "execution_count": 122,
   "id": "ed8e74f7",
   "metadata": {},
   "outputs": [
    {
     "data": {
      "text/plain": [
       "<AxesSubplot:xlabel='date', ylabel='Light'>"
      ]
     },
     "execution_count": 122,
     "metadata": {},
     "output_type": "execute_result"
    },
    {
     "data": {
      "image/png": "[encoded data removed]",
      "text/plain": [
       "<Figure size 432x288 with 1 Axes>"
      ]
     },
     "metadata": {
      "needs_background": "light"
     },
     "output_type": "display_data"
    }
   ],
   "source": [
    "sns.lineplot(data=data2,x='date',y='Light')"
   ]
  },
  {
   "cell_type": "code",
   "execution_count": 123,
   "id": "a38b54fd",
   "metadata": {},
   "outputs": [
    {
     "data": {
      "text/plain": [
       "<AxesSubplot:xlabel='date', ylabel='CO2'>"
      ]
     },
     "execution_count": 123,
     "metadata": {},
     "output_type": "execute_result"
    },
    {
     "data": {
      "image/png": "[encoded data removed]",
      "text/plain": [
       "<Figure size 432x288 with 1 Axes>"
      ]
     },
     "metadata": {
      "needs_background": "light"
     },
     "output_type": "display_data"
    }
   ],
   "source": [
    "sns.lineplot(data=data2,x='date',y='CO2')"
   ]
  },
  {
   "cell_type": "code",
   "execution_count": 124,
   "id": "bb1df3ef",
   "metadata": {},
   "outputs": [
    {
     "data": {
      "text/plain": [
       "<AxesSubplot:xlabel='date', ylabel='HumidityRatio'>"
      ]
     },
     "execution_count": 124,
     "metadata": {},
     "output_type": "execute_result"
    },
    {
     "data": {
      "image/png": "[encoded data removed]",
      "text/plain": [
       "<Figure size 432x288 with 1 Axes>"
      ]
     },
     "metadata": {
      "needs_background": "light"
     },
     "output_type": "display_data"
    }
   ],
   "source": [
    "sns.lineplot(data=data2,x='date',y='HumidityRatio')"
   ]
  },
  {
   "cell_type": "code",
   "execution_count": 125,
   "id": "fb4c5587",
   "metadata": {},
   "outputs": [
    {
     "data": {
      "text/plain": [
       "<AxesSubplot:xlabel='date', ylabel='Occupancy'>"
      ]
     },
     "execution_count": 125,
     "metadata": {},
     "output_type": "execute_result"
    },
    {
     "data": {
      "image/png": "[encoded data removed]",
      "text/plain": [
       "<Figure size 432x288 with 1 Axes>"
      ]
     },
     "metadata": {
      "needs_background": "light"
     },
     "output_type": "display_data"
    }
   ],
   "source": [
    "sns.lineplot(data=data2,x='date',y='Occupancy')"
   ]
  },
  {
   "cell_type": "code",
   "execution_count": 126,
   "id": "9e12d0c2",
   "metadata": {},
   "outputs": [
    {
     "data": {
      "text/plain": [
       "<AxesSubplot:>"
      ]
     },
     "execution_count": 126,
     "metadata": {},
     "output_type": "execute_result"
    },
    {
     "data": {
      "image/png": "[encoded data removed]",
      "text/plain": [
       "<Figure size 720x576 with 2 Axes>"
      ]
     },
     "metadata": {
      "needs_background": "light"
     },
     "output_type": "display_data"
    }
   ],
   "source": [
    "f, ax = plt.subplots(figsize=(10, 8))\n",
    "corr2 = data2.corr()\n",
    "sns.heatmap(corr2, mask=np.zeros_like(corr2, dtype=bool),\n",
    "            cmap=sns.diverging_palette(220, 10, as_cmap=True),\n",
    "            square=True, ax=ax)"
   ]
  },
  {
   "cell_type": "code",
   "execution_count": 127,
   "id": "ca68167d",
   "metadata": {},
   "outputs": [
    {
     "data": {
      "image/png": "[encoded data removed]",
      "text/plain": [
       "<Figure size 432x288 with 2 Axes>"
      ]
     },
     "metadata": {
      "needs_background": "light"
     },
     "output_type": "display_data"
    }
   ],
   "source": [
    "sns.heatmap(corr2, annot = True)\n",
    "plt.show()"
   ]
  },
  {
   "cell_type": "code",
   "execution_count": 128,
   "id": "4d50d440",
   "metadata": {
    "scrolled": true
   },
   "outputs": [
    {
     "data": {
      "text/html": [
       "<div>\n",
       "<style scoped>\n",
       "    .dataframe tbody tr th:only-of-type {\n",
       "        vertical-align: middle;\n",
       "    }\n",
       "\n",
       "    .dataframe tbody tr th {\n",
       "        vertical-align: top;\n",
       "    }\n",
       "\n",
       "    .dataframe thead th {\n",
       "        text-align: right;\n",
       "    }\n",
       "</style>\n",
       "<table border=\"1\" class=\"dataframe\">\n",
       "  <thead>\n",
       "    <tr style=\"text-align: right;\">\n",
       "      <th></th>\n",
       "      <th>date</th>\n",
       "      <th>Temperature</th>\n",
       "      <th>Humidity</th>\n",
       "      <th>Light</th>\n",
       "      <th>CO2</th>\n",
       "      <th>HumidityRatio</th>\n",
       "      <th>Occupancy</th>\n",
       "    </tr>\n",
       "  </thead>\n",
       "  <tbody>\n",
       "    <tr>\n",
       "      <th>1</th>\n",
       "      <td>2015-02-11 14:48:00</td>\n",
       "      <td>21.7600</td>\n",
       "      <td>31.133333</td>\n",
       "      <td>437.333333</td>\n",
       "      <td>1029.666667</td>\n",
       "      <td>0.005021</td>\n",
       "      <td>1</td>\n",
       "    </tr>\n",
       "    <tr>\n",
       "      <th>2</th>\n",
       "      <td>2015-02-11 14:49:00</td>\n",
       "      <td>21.7900</td>\n",
       "      <td>31.000000</td>\n",
       "      <td>437.333333</td>\n",
       "      <td>1000.000000</td>\n",
       "      <td>0.005009</td>\n",
       "      <td>1</td>\n",
       "    </tr>\n",
       "    <tr>\n",
       "      <th>3</th>\n",
       "      <td>2015-02-11 14:50:00</td>\n",
       "      <td>21.7675</td>\n",
       "      <td>31.122500</td>\n",
       "      <td>434.000000</td>\n",
       "      <td>1003.750000</td>\n",
       "      <td>0.005022</td>\n",
       "      <td>1</td>\n",
       "    </tr>\n",
       "    <tr>\n",
       "      <th>4</th>\n",
       "      <td>2015-02-11 14:51:00</td>\n",
       "      <td>21.7675</td>\n",
       "      <td>31.122500</td>\n",
       "      <td>439.000000</td>\n",
       "      <td>1009.500000</td>\n",
       "      <td>0.005022</td>\n",
       "      <td>1</td>\n",
       "    </tr>\n",
       "    <tr>\n",
       "      <th>5</th>\n",
       "      <td>2015-02-11 14:51:59</td>\n",
       "      <td>21.7900</td>\n",
       "      <td>31.133333</td>\n",
       "      <td>437.333333</td>\n",
       "      <td>1005.666667</td>\n",
       "      <td>0.005030</td>\n",
       "      <td>1</td>\n",
       "    </tr>\n",
       "  </tbody>\n",
       "</table>\n",
       "</div>"
      ],
      "text/plain": [
       "                  date  Temperature   Humidity       Light          CO2  \\\n",
       "1  2015-02-11 14:48:00      21.7600  31.133333  437.333333  1029.666667   \n",
       "2  2015-02-11 14:49:00      21.7900  31.000000  437.333333  1000.000000   \n",
       "3  2015-02-11 14:50:00      21.7675  31.122500  434.000000  1003.750000   \n",
       "4  2015-02-11 14:51:00      21.7675  31.122500  439.000000  1009.500000   \n",
       "5  2015-02-11 14:51:59      21.7900  31.133333  437.333333  1005.666667   \n",
       "\n",
       "   HumidityRatio  Occupancy  \n",
       "1       0.005021          1  \n",
       "2       0.005009          1  \n",
       "3       0.005022          1  \n",
       "4       0.005022          1  \n",
       "5       0.005030          1  "
      ]
     },
     "execution_count": 128,
     "metadata": {},
     "output_type": "execute_result"
    }
   ],
   "source": [
    "data2.head()"
   ]
  },
  {
   "cell_type": "code",
   "execution_count": 129,
   "id": "f860a1e9",
   "metadata": {},
   "outputs": [
    {
     "data": {
      "text/plain": [
       "count    9752.000000\n",
       "mean       21.001768\n",
       "std         1.020693\n",
       "min        19.500000\n",
       "25%        20.290000\n",
       "50%        20.790000\n",
       "75%        21.533333\n",
       "max        24.390000\n",
       "Name: Temperature, dtype: float64"
      ]
     },
     "execution_count": 129,
     "metadata": {},
     "output_type": "execute_result"
    }
   ],
   "source": [
    "data2['Temperature'].describe()"
   ]
  },
  {
   "cell_type": "code",
   "execution_count": 130,
   "id": "d091a0fe",
   "metadata": {},
   "outputs": [
    {
     "data": {
      "text/plain": [
       "count    9752.000000\n",
       "mean       29.891910\n",
       "std         3.952844\n",
       "min        21.865000\n",
       "25%        26.642083\n",
       "50%        30.200000\n",
       "75%        32.700000\n",
       "max        39.500000\n",
       "Name: Humidity, dtype: float64"
      ]
     },
     "execution_count": 130,
     "metadata": {},
     "output_type": "execute_result"
    }
   ],
   "source": [
    "data2['Humidity'].describe()"
   ]
  },
  {
   "cell_type": "code",
   "execution_count": 131,
   "id": "4da418ce",
   "metadata": {},
   "outputs": [
    {
     "data": {
      "text/plain": [
       "count    9752.000000\n",
       "mean      123.067930\n",
       "std       208.221275\n",
       "min         0.000000\n",
       "25%         0.000000\n",
       "50%         0.000000\n",
       "75%       208.250000\n",
       "max      1581.000000\n",
       "Name: Light, dtype: float64"
      ]
     },
     "execution_count": 131,
     "metadata": {},
     "output_type": "execute_result"
    }
   ],
   "source": [
    "data2['Light'].describe()"
   ]
  },
  {
   "cell_type": "code",
   "execution_count": 132,
   "id": "d8bb7ef1",
   "metadata": {},
   "outputs": [
    {
     "data": {
      "text/plain": [
       "count    9752.000000\n",
       "mean      753.224832\n",
       "std       297.096114\n",
       "min       484.666667\n",
       "25%       542.312500\n",
       "50%       639.000000\n",
       "75%       831.125000\n",
       "max      2076.500000\n",
       "Name: CO2, dtype: float64"
      ]
     },
     "execution_count": 132,
     "metadata": {},
     "output_type": "execute_result"
    }
   ],
   "source": [
    "data2['CO2'].describe()"
   ]
  },
  {
   "cell_type": "code",
   "execution_count": 133,
   "id": "f6caf199",
   "metadata": {},
   "outputs": [
    {
     "data": {
      "text/plain": [
       "count    9752.000000\n",
       "mean        0.004589\n",
       "std         0.000531\n",
       "min         0.003275\n",
       "25%         0.004196\n",
       "50%         0.004593\n",
       "75%         0.004998\n",
       "max         0.005769\n",
       "Name: HumidityRatio, dtype: float64"
      ]
     },
     "execution_count": 133,
     "metadata": {},
     "output_type": "execute_result"
    }
   ],
   "source": [
    "data2['HumidityRatio'].describe()"
   ]
  },
  {
   "cell_type": "code",
   "execution_count": 134,
   "id": "33bcdf39",
   "metadata": {},
   "outputs": [
    {
     "data": {
      "text/plain": [
       "count    9752.000000\n",
       "mean        0.210111\n",
       "std         0.407408\n",
       "min         0.000000\n",
       "25%         0.000000\n",
       "50%         0.000000\n",
       "75%         0.000000\n",
       "max         1.000000\n",
       "Name: Occupancy, dtype: float64"
      ]
     },
     "execution_count": 134,
     "metadata": {},
     "output_type": "execute_result"
    }
   ],
   "source": [
    "data2['Occupancy'].describe()"
   ]
  },
  {
   "cell_type": "code",
   "execution_count": 135,
   "id": "0fe622b3",
   "metadata": {},
   "outputs": [
    {
     "data": {
      "image/png": "[encoded data removed]",
      "text/plain": [
       "<Figure size 432x288 with 1 Axes>"
      ]
     },
     "metadata": {
      "needs_background": "light"
     },
     "output_type": "display_data"
    }
   ],
   "source": [
    "sns.distplot(data2['Temperature']);"
   ]
  },
  {
   "cell_type": "code",
   "execution_count": 136,
   "id": "c71c936b",
   "metadata": {},
   "outputs": [
    {
     "name": "stdout",
     "output_type": "stream",
     "text": [
      "Skewness: 1.228301\n",
      "Kurtosis: 1.270792\n"
     ]
    }
   ],
   "source": [
    "print(\"Skewness: %f\" % data2['Temperature'].skew())\n",
    "print(\"Kurtosis: %f\" % data2['Temperature'].kurt())"
   ]
  },
  {
   "cell_type": "code",
   "execution_count": 137,
   "id": "cfb30566",
   "metadata": {},
   "outputs": [
    {
     "data": {
      "image/png": "[encoded data removed]",
      "text/plain": [
       "<Figure size 432x288 with 1 Axes>"
      ]
     },
     "metadata": {
      "needs_background": "light"
     },
     "output_type": "display_data"
    }
   ],
   "source": [
    "sns.distplot(data2['Humidity']);"
   ]
  },
  {
   "cell_type": "code",
   "execution_count": 138,
   "id": "6d04e1e8",
   "metadata": {},
   "outputs": [
    {
     "name": "stdout",
     "output_type": "stream",
     "text": [
      "Skewness: 0.119257\n",
      "Kurtosis: -0.850902\n"
     ]
    }
   ],
   "source": [
    "print(\"Skewness: %f\" % data2['Humidity'].skew())\n",
    "print(\"Kurtosis: %f\" % data2['Humidity'].kurt())"
   ]
  },
  {
   "cell_type": "code",
   "execution_count": 139,
   "id": "a5ca2f86",
   "metadata": {},
   "outputs": [
    {
     "data": {
      "image/png": "[encoded data removed]",
      "text/plain": [
       "<Figure size 432x288 with 1 Axes>"
      ]
     },
     "metadata": {
      "needs_background": "light"
     },
     "output_type": "display_data"
    }
   ],
   "source": [
    "sns.distplot(data2['Light']);"
   ]
  },
  {
   "cell_type": "code",
   "execution_count": 140,
   "id": "ce493883",
   "metadata": {},
   "outputs": [
    {
     "name": "stdout",
     "output_type": "stream",
     "text": [
      "Skewness: 1.512123\n",
      "Kurtosis: 1.230746\n"
     ]
    }
   ],
   "source": [
    "print(\"Skewness: %f\" % data2['Light'].skew())\n",
    "print(\"Kurtosis: %f\" % data2['Light'].kurt())"
   ]
  },
  {
   "cell_type": "code",
   "execution_count": 141,
   "id": "37194b9d",
   "metadata": {},
   "outputs": [
    {
     "data": {
      "image/png": "[encoded data removed]",
      "text/plain": [
       "<Figure size 432x288 with 1 Axes>"
      ]
     },
     "metadata": {
      "needs_background": "light"
     },
     "output_type": "display_data"
    }
   ],
   "source": [
    "sns.distplot(data2['CO2']);"
   ]
  },
  {
   "cell_type": "code",
   "execution_count": 142,
   "id": "f00a57eb",
   "metadata": {},
   "outputs": [
    {
     "name": "stdout",
     "output_type": "stream",
     "text": [
      "Skewness: 1.545384\n",
      "Kurtosis: 1.480166\n"
     ]
    }
   ],
   "source": [
    "print(\"Skewness: %f\" % data2['CO2'].skew())\n",
    "print(\"Kurtosis: %f\" % data2['CO2'].kurt())"
   ]
  },
  {
   "cell_type": "code",
   "execution_count": 143,
   "id": "457fa858",
   "metadata": {},
   "outputs": [
    {
     "data": {
      "image/png": "[encoded data removed]",
      "text/plain": [
       "<Figure size 432x288 with 1 Axes>"
      ]
     },
     "metadata": {
      "needs_background": "light"
     },
     "output_type": "display_data"
    }
   ],
   "source": [
    "sns.distplot(data2['HumidityRatio']);"
   ]
  },
  {
   "cell_type": "code",
   "execution_count": 144,
   "id": "af18e31d",
   "metadata": {},
   "outputs": [
    {
     "name": "stdout",
     "output_type": "stream",
     "text": [
      "Skewness: -0.166972\n",
      "Kurtosis: -0.611207\n"
     ]
    }
   ],
   "source": [
    "print(\"Skewness: %f\" % data2['HumidityRatio'].skew())\n",
    "print(\"Kurtosis: %f\" % data2['HumidityRatio'].kurt())"
   ]
  },
  {
   "cell_type": "code",
   "execution_count": 145,
   "id": "b6376aaa",
   "metadata": {},
   "outputs": [
    {
     "data": {
      "image/png": "[encoded data removed]",
      "text/plain": [
       "<Figure size 432x288 with 1 Axes>"
      ]
     },
     "metadata": {
      "needs_background": "light"
     },
     "output_type": "display_data"
    }
   ],
   "source": [
    "sns.distplot(data2['Occupancy']);"
   ]
  },
  {
   "cell_type": "code",
   "execution_count": 146,
   "id": "7ac68575",
   "metadata": {},
   "outputs": [
    {
     "name": "stdout",
     "output_type": "stream",
     "text": [
      "Skewness: 1.423383\n",
      "Kurtosis: 0.026024\n"
     ]
    }
   ],
   "source": [
    "print(\"Skewness: %f\" % data2['Occupancy'].skew())\n",
    "print(\"Kurtosis: %f\" % data2['Occupancy'].kurt())"
   ]
  },
  {
   "cell_type": "code",
   "execution_count": 147,
   "id": "c0cef398",
   "metadata": {},
   "outputs": [],
   "source": [
    "data2.loc[data2['Temperature'] < 19 ,'Temperature'] = 21.001768\n",
    "data2.loc[data2['Temperature'] > 25,'Temperature'] = 21.001768"
   ]
  },
  {
   "cell_type": "code",
   "execution_count": 148,
   "id": "2a5e3091",
   "metadata": {},
   "outputs": [],
   "source": [
    "data2.loc[data2['Humidity'] < 20 ,'Humidity'] = 29.891910\n",
    "data2.loc[data2['Humidity'] > 43,'Humidity'] = 29.891910"
   ]
  },
  {
   "cell_type": "code",
   "execution_count": 149,
   "id": "fc904153",
   "metadata": {},
   "outputs": [],
   "source": [
    "data2.loc[data2['Light'] < -125 ,'Light'] = 123.067930\n",
    "data2.loc[data2['Light'] > 1700,'Light'] = 123.067930"
   ]
  },
  {
   "cell_type": "code",
   "execution_count": 150,
   "id": "9b632433",
   "metadata": {},
   "outputs": [],
   "source": [
    "data2.loc[data2['CO2'] < 325 ,'CO2'] = 753.224832\n",
    "data2.loc[data2['CO2'] > 2150,'CO2'] = 753.224832"
   ]
  },
  {
   "cell_type": "code",
   "execution_count": 151,
   "id": "aec3e95e",
   "metadata": {},
   "outputs": [],
   "source": [
    "data2.loc[data2['HumidityRatio'] < 0.0030 ,'HumidityRatio'] = 0.004589\n",
    "data2.loc[data2['HumidityRatio'] > 0.0060,'HumidityRatio'] = 0.004589"
   ]
  },
  {
   "cell_type": "code",
   "execution_count": 152,
   "id": "a97e57a9",
   "metadata": {},
   "outputs": [],
   "source": [
    "data2.loc[data2['Occupancy'] < -0.2 ,'Occupancy'] = 0.210111\n",
    "data2.loc[data2['Occupancy'] > 1.2,'Occupancy'] = 0.210111"
   ]
  },
  {
   "cell_type": "code",
   "execution_count": 153,
   "id": "b08a6472",
   "metadata": {},
   "outputs": [
    {
     "data": {
      "text/plain": [
       "False"
      ]
     },
     "execution_count": 153,
     "metadata": {},
     "output_type": "execute_result"
    }
   ],
   "source": [
    "data2.isnull().values.any()"
   ]
  },
  {
   "cell_type": "code",
   "execution_count": 154,
   "id": "36ddea25",
   "metadata": {},
   "outputs": [],
   "source": [
    "feature_names = ['Temperature', 'Humidity', 'Light', 'CO2', 'HumidityRatio', 'Occupancy']\n",
    "X = data2[feature_names]\n",
    "y = data2.Occupancy"
   ]
  },
  {
   "cell_type": "code",
   "execution_count": 155,
   "id": "71bb5de4",
   "metadata": {},
   "outputs": [],
   "source": [
    "iris_dataset = load_iris()\n",
    "X = iris_dataset.data\n",
    "y = iris_dataset.target"
   ]
  },
  {
   "cell_type": "code",
   "execution_count": 156,
   "id": "c3915aca",
   "metadata": {},
   "outputs": [],
   "source": [
    "X = X.astype(int)"
   ]
  },
  {
   "cell_type": "code",
   "execution_count": 157,
   "id": "9db471c7",
   "metadata": {},
   "outputs": [
    {
     "data": {
      "text/plain": [
       "ExtraTreesClassifier(criterion='entropy', max_features=2, n_estimators=5)"
      ]
     },
     "execution_count": 157,
     "metadata": {},
     "output_type": "execute_result"
    }
   ],
   "source": [
    "extra_tree_forest = ExtraTreesClassifier(n_estimators = 5,\n",
    "                                        criterion ='entropy', max_features = 2)\n",
    "  \n",
    "extra_tree_forest.fit(X, y)"
   ]
  },
  {
   "cell_type": "code",
   "execution_count": 158,
   "id": "485cf969",
   "metadata": {},
   "outputs": [],
   "source": [
    "feature_importance = extra_tree_forest.feature_importances_\n",
    "  \n",
    "feature_importance_normalized = np.std([tree.feature_importances_ for tree in \n",
    "                                        extra_tree_forest.estimators_],\n",
    "                                        axis = 0)"
   ]
  },
  {
   "cell_type": "code",
   "execution_count": 159,
   "id": "cd261d4e",
   "metadata": {},
   "outputs": [
    {
     "data": {
      "image/png": "[encoded data removed]",
      "text/plain": [
       "<Figure size 432x288 with 1 Axes>"
      ]
     },
     "metadata": {
      "needs_background": "light"
     },
     "output_type": "display_data"
    }
   ],
   "source": [
    "plt.bar(iris_dataset.feature_names, feature_importance_normalized)\n",
    "plt.xlabel('Feature Labels')\n",
    "plt.ylabel('Feature Importances')\n",
    "plt.title('Comparison of different Feature Importances')\n",
    "plt.show()"
   ]
  },
  {
   "cell_type": "code",
   "execution_count": 160,
   "id": "d3b80e03",
   "metadata": {},
   "outputs": [
    {
     "name": "stdout",
     "output_type": "stream",
     "text": [
      "The original range : 2015-02-11 00:00:00 2015-02-18 00:00:00\n",
      "Total business days in range : 5\n"
     ]
    }
   ],
   "source": [
    "test_date1, test_date2 = datetime(2015, 2, 11), datetime(2015, 2, 18)\n",
    "  \n",
    "# printing dates\n",
    "print(\"The original range : \" + str(test_date1) + \" \" + str(test_date2))\n",
    "  \n",
    "# generating dates\n",
    "dates = (test_date1 + timedelta(idx + 1)\n",
    "         for idx in range((test_date2 - test_date1).days))\n",
    "  \n",
    "# summing all weekdays\n",
    "res = sum(1 for day in dates if day.weekday() < 5)\n",
    "  \n",
    "# printing\n",
    "print(\"Total business days in range : \" + str(res))"
   ]
  },
  {
   "cell_type": "code",
   "execution_count": 161,
   "id": "341097d3",
   "metadata": {},
   "outputs": [
    {
     "data": {
      "text/plain": [
       "2015-02-11    2\n",
       "2015-02-12    3\n",
       "2015-02-13    4\n",
       "2015-02-14    5\n",
       "2015-02-15    6\n",
       "2015-02-16    0\n",
       "2015-02-17    1\n",
       "2015-02-18    2\n",
       "Freq: D, dtype: int64"
      ]
     },
     "execution_count": 161,
     "metadata": {},
     "output_type": "execute_result"
    }
   ],
   "source": [
    "s2 = pd.date_range('2015-02-11', '2015-02-18', freq='D').to_series()\n",
    "s2.dt.dayofweek\n",
    "# 0:Monday...6:Sunday "
   ]
  },
  {
   "cell_type": "code",
   "execution_count": 162,
   "id": "3999729d",
   "metadata": {},
   "outputs": [
    {
     "name": "stdout",
     "output_type": "stream",
     "text": [
      "Confusion Matrix : \n",
      " [[1542   14]\n",
      " [   1  394]]\n",
      "Accuracy :  0.9923116350589442\n",
      "Precision:  0.9656862745098039\n",
      "Recall:  0.9974683544303797\n"
     ]
    }
   ],
   "source": [
    "X2 = data2.iloc[:,1:6]\n",
    "y2 = data2['Occupancy']\n",
    "num_test = 0.20\n",
    "X2_train, X2_test, y2_train, y2_test = train_test_split(X2, y2, test_size=num_test, random_state=23)\n",
    "regressor = LinearRegression()\n",
    "regressor.fit(X2_test, y2_test)\n",
    "classifier = LogisticRegression(random_state = 0)\n",
    "classifier.fit(X2_test, y2_test)\n",
    "y2_pred = classifier.predict(X2_test)\n",
    "cm2 = confusion_matrix(y2_test, y2_pred)\n",
    "ac2 = accuracy_score(y2_test, y2_pred)\n",
    "pre2 = precision_score(y2_test, y2_pred)\n",
    "rec2 = recall_score(y2_test, y2_pred)\n",
    "print (\"Confusion Matrix : \\n\", cm2)\n",
    "print (\"Accuracy : \", ac2)\n",
    "print (\"Precision: \", pre2)\n",
    "print (\"Recall: \", rec2)"
   ]
  },
  {
   "cell_type": "code",
   "execution_count": 163,
   "id": "f019627d",
   "metadata": {},
   "outputs": [
    {
     "name": "stdout",
     "output_type": "stream",
     "text": [
      "+--------------------+\n",
      "|      Results       |\n",
      "+--------------------+\n",
      "| 0.9923116350589442 |\n",
      "|    [[1542   14]    |\n",
      "|    [   1  394]]    |\n",
      "| 0.9656862745098039 |\n",
      "| 0.9974683544303797 |\n",
      "+--------------------+\n"
     ]
    }
   ],
   "source": [
    "myTable = PrettyTable([\"Results\"])\n",
    " \n",
    "myTable.add_row([ac2])\n",
    "myTable.add_row([cm2])\n",
    "myTable.add_row([pre2])\n",
    "myTable.add_row([rec2])\n",
    " \n",
    "print(myTable)"
   ]
  },
  {
   "cell_type": "code",
   "execution_count": 164,
   "id": "e561163e",
   "metadata": {},
   "outputs": [],
   "source": [
    "def get_mae(max_leaf_nodes, X2_train, X2_test, y2_train, y2_test):\n",
    "    model = DecisionTreeRegressor(max_leaf_nodes=max_leaf_nodes, random_state=0)\n",
    "    model.fit(X2_train, y2_train)\n",
    "    y2_pred = model.predict(X2_test)\n",
    "    mae = mean_absolute_error(y2_test, y2_pred)\n",
    "    return(mae)"
   ]
  },
  {
   "cell_type": "code",
   "execution_count": 165,
   "id": "63895436",
   "metadata": {},
   "outputs": [
    {
     "name": "stdout",
     "output_type": "stream",
     "text": [
      "Max leaf nodes: 5  \t\t Mean Absolute Error:  0\n",
      "Max leaf nodes: 50  \t\t Mean Absolute Error:  0\n",
      "Max leaf nodes: 500  \t\t Mean Absolute Error:  0\n",
      "Max leaf nodes: 5000  \t\t Mean Absolute Error:  0\n"
     ]
    }
   ],
   "source": [
    "for max_leaf_nodes in [5, 50, 500, 5000]:\n",
    "    my_mae = get_mae(max_leaf_nodes, X2_train, X2_test, y2_train, y2_test)\n",
    "    print(\"Max leaf nodes: %d  \\t\\t Mean Absolute Error:  %d\" %(max_leaf_nodes, my_mae))"
   ]
  },
  {
   "cell_type": "code",
   "execution_count": 166,
   "id": "c55d557d",
   "metadata": {},
   "outputs": [],
   "source": [
    "data3 = pd.read_csv(\"datatraining.csv\")"
   ]
  },
  {
   "cell_type": "code",
   "execution_count": 167,
   "id": "50bfd8ad",
   "metadata": {},
   "outputs": [
    {
     "data": {
      "text/html": [
       "<div>\n",
       "<style scoped>\n",
       "    .dataframe tbody tr th:only-of-type {\n",
       "        vertical-align: middle;\n",
       "    }\n",
       "\n",
       "    .dataframe tbody tr th {\n",
       "        vertical-align: top;\n",
       "    }\n",
       "\n",
       "    .dataframe thead th {\n",
       "        text-align: right;\n",
       "    }\n",
       "</style>\n",
       "<table border=\"1\" class=\"dataframe\">\n",
       "  <thead>\n",
       "    <tr style=\"text-align: right;\">\n",
       "      <th></th>\n",
       "      <th>date</th>\n",
       "      <th>Temperature</th>\n",
       "      <th>Humidity</th>\n",
       "      <th>Light</th>\n",
       "      <th>CO2</th>\n",
       "      <th>HumidityRatio</th>\n",
       "      <th>Occupancy</th>\n",
       "    </tr>\n",
       "  </thead>\n",
       "  <tbody>\n",
       "    <tr>\n",
       "      <th>1</th>\n",
       "      <td>2015-02-04 17:51:00</td>\n",
       "      <td>23.18</td>\n",
       "      <td>27.2720</td>\n",
       "      <td>426.0</td>\n",
       "      <td>721.25</td>\n",
       "      <td>0.004793</td>\n",
       "      <td>1</td>\n",
       "    </tr>\n",
       "    <tr>\n",
       "      <th>2</th>\n",
       "      <td>2015-02-04 17:51:59</td>\n",
       "      <td>23.15</td>\n",
       "      <td>27.2675</td>\n",
       "      <td>429.5</td>\n",
       "      <td>714.00</td>\n",
       "      <td>0.004783</td>\n",
       "      <td>1</td>\n",
       "    </tr>\n",
       "    <tr>\n",
       "      <th>3</th>\n",
       "      <td>2015-02-04 17:53:00</td>\n",
       "      <td>23.15</td>\n",
       "      <td>27.2450</td>\n",
       "      <td>426.0</td>\n",
       "      <td>713.50</td>\n",
       "      <td>0.004779</td>\n",
       "      <td>1</td>\n",
       "    </tr>\n",
       "    <tr>\n",
       "      <th>4</th>\n",
       "      <td>2015-02-04 17:54:00</td>\n",
       "      <td>23.15</td>\n",
       "      <td>27.2000</td>\n",
       "      <td>426.0</td>\n",
       "      <td>708.25</td>\n",
       "      <td>0.004772</td>\n",
       "      <td>1</td>\n",
       "    </tr>\n",
       "    <tr>\n",
       "      <th>5</th>\n",
       "      <td>2015-02-04 17:55:00</td>\n",
       "      <td>23.10</td>\n",
       "      <td>27.2000</td>\n",
       "      <td>426.0</td>\n",
       "      <td>704.50</td>\n",
       "      <td>0.004757</td>\n",
       "      <td>1</td>\n",
       "    </tr>\n",
       "  </tbody>\n",
       "</table>\n",
       "</div>"
      ],
      "text/plain": [
       "                  date  Temperature  Humidity  Light     CO2  HumidityRatio  \\\n",
       "1  2015-02-04 17:51:00        23.18   27.2720  426.0  721.25       0.004793   \n",
       "2  2015-02-04 17:51:59        23.15   27.2675  429.5  714.00       0.004783   \n",
       "3  2015-02-04 17:53:00        23.15   27.2450  426.0  713.50       0.004779   \n",
       "4  2015-02-04 17:54:00        23.15   27.2000  426.0  708.25       0.004772   \n",
       "5  2015-02-04 17:55:00        23.10   27.2000  426.0  704.50       0.004757   \n",
       "\n",
       "   Occupancy  \n",
       "1          1  \n",
       "2          1  \n",
       "3          1  \n",
       "4          1  \n",
       "5          1  "
      ]
     },
     "execution_count": 167,
     "metadata": {},
     "output_type": "execute_result"
    }
   ],
   "source": [
    "data3.head()"
   ]
  },
  {
   "cell_type": "code",
   "execution_count": 168,
   "id": "3a80954d",
   "metadata": {},
   "outputs": [
    {
     "data": {
      "text/plain": [
       "count    8143.000000\n",
       "mean       20.619084\n",
       "std         1.016916\n",
       "min        19.000000\n",
       "25%        19.700000\n",
       "50%        20.390000\n",
       "75%        21.390000\n",
       "max        23.180000\n",
       "Name: Temperature, dtype: float64"
      ]
     },
     "execution_count": 168,
     "metadata": {},
     "output_type": "execute_result"
    }
   ],
   "source": [
    "data3['Temperature'].describe()"
   ]
  },
  {
   "cell_type": "code",
   "execution_count": 169,
   "id": "8aea4eee",
   "metadata": {},
   "outputs": [
    {
     "data": {
      "text/plain": [
       "count    8143.000000\n",
       "mean       25.731507\n",
       "std         5.531211\n",
       "min        16.745000\n",
       "25%        20.200000\n",
       "50%        26.222500\n",
       "75%        30.533333\n",
       "max        39.117500\n",
       "Name: Humidity, dtype: float64"
      ]
     },
     "execution_count": 169,
     "metadata": {},
     "output_type": "execute_result"
    }
   ],
   "source": [
    "data3['Humidity'].describe()"
   ]
  },
  {
   "cell_type": "code",
   "execution_count": 170,
   "id": "2d5d6321",
   "metadata": {},
   "outputs": [
    {
     "data": {
      "text/plain": [
       "count    8143.000000\n",
       "mean      119.519375\n",
       "std       194.755805\n",
       "min         0.000000\n",
       "25%         0.000000\n",
       "50%         0.000000\n",
       "75%       256.375000\n",
       "max      1546.333333\n",
       "Name: Light, dtype: float64"
      ]
     },
     "execution_count": 170,
     "metadata": {},
     "output_type": "execute_result"
    }
   ],
   "source": [
    "data3['Light'].describe()"
   ]
  },
  {
   "cell_type": "code",
   "execution_count": 171,
   "id": "6af7ce45",
   "metadata": {},
   "outputs": [
    {
     "data": {
      "text/plain": [
       "count    8143.000000\n",
       "mean      606.546243\n",
       "std       314.320877\n",
       "min       412.750000\n",
       "25%       439.000000\n",
       "50%       453.500000\n",
       "75%       638.833333\n",
       "max      2028.500000\n",
       "Name: CO2, dtype: float64"
      ]
     },
     "execution_count": 171,
     "metadata": {},
     "output_type": "execute_result"
    }
   ],
   "source": [
    "data3['CO2'].describe()"
   ]
  },
  {
   "cell_type": "code",
   "execution_count": 172,
   "id": "b7158c96",
   "metadata": {},
   "outputs": [
    {
     "data": {
      "text/plain": [
       "count    8143.000000\n",
       "mean        0.003863\n",
       "std         0.000852\n",
       "min         0.002674\n",
       "25%         0.003078\n",
       "50%         0.003801\n",
       "75%         0.004352\n",
       "max         0.006476\n",
       "Name: HumidityRatio, dtype: float64"
      ]
     },
     "execution_count": 172,
     "metadata": {},
     "output_type": "execute_result"
    }
   ],
   "source": [
    "data3['HumidityRatio'].describe()"
   ]
  },
  {
   "cell_type": "code",
   "execution_count": 173,
   "id": "d7754c45",
   "metadata": {},
   "outputs": [
    {
     "data": {
      "text/plain": [
       "count    8143.000000\n",
       "mean        0.212330\n",
       "std         0.408982\n",
       "min         0.000000\n",
       "25%         0.000000\n",
       "50%         0.000000\n",
       "75%         0.000000\n",
       "max         1.000000\n",
       "Name: Occupancy, dtype: float64"
      ]
     },
     "execution_count": 173,
     "metadata": {},
     "output_type": "execute_result"
    }
   ],
   "source": [
    "data3['Occupancy'].describe()"
   ]
  },
  {
   "cell_type": "code",
   "execution_count": 174,
   "id": "002424d7",
   "metadata": {},
   "outputs": [
    {
     "data": {
      "text/plain": [
       "date              object\n",
       "Temperature      float64\n",
       "Humidity         float64\n",
       "Light            float64\n",
       "CO2              float64\n",
       "HumidityRatio    float64\n",
       "Occupancy          int64\n",
       "dtype: object"
      ]
     },
     "execution_count": 174,
     "metadata": {},
     "output_type": "execute_result"
    }
   ],
   "source": [
    "data3.dtypes"
   ]
  },
  {
   "cell_type": "code",
   "execution_count": 175,
   "id": "7f351e6d",
   "metadata": {},
   "outputs": [
    {
     "name": "stdout",
     "output_type": "stream",
     "text": [
      "<class 'pandas.core.frame.DataFrame'>\n",
      "Int64Index: 8143 entries, 1 to 8143\n",
      "Data columns (total 7 columns):\n",
      " #   Column         Non-Null Count  Dtype  \n",
      "---  ------         --------------  -----  \n",
      " 0   date           8143 non-null   object \n",
      " 1   Temperature    8143 non-null   float64\n",
      " 2   Humidity       8143 non-null   float64\n",
      " 3   Light          8143 non-null   float64\n",
      " 4   CO2            8143 non-null   float64\n",
      " 5   HumidityRatio  8143 non-null   float64\n",
      " 6   Occupancy      8143 non-null   int64  \n",
      "dtypes: float64(5), int64(1), object(1)\n",
      "memory usage: 508.9+ KB\n"
     ]
    }
   ],
   "source": [
    "data3.info()"
   ]
  },
  {
   "cell_type": "code",
   "execution_count": 176,
   "id": "aad491eb",
   "metadata": {},
   "outputs": [
    {
     "data": {
      "text/plain": [
       "Index(['date', 'Temperature', 'Humidity', 'Light', 'CO2', 'HumidityRatio',\n",
       "       'Occupancy'],\n",
       "      dtype='object')"
      ]
     },
     "execution_count": 176,
     "metadata": {},
     "output_type": "execute_result"
    }
   ],
   "source": [
    "data3.columns"
   ]
  },
  {
   "cell_type": "code",
   "execution_count": 177,
   "id": "bc80de28",
   "metadata": {},
   "outputs": [
    {
     "data": {
      "text/html": [
       "<div>\n",
       "<style scoped>\n",
       "    .dataframe tbody tr th:only-of-type {\n",
       "        vertical-align: middle;\n",
       "    }\n",
       "\n",
       "    .dataframe tbody tr th {\n",
       "        vertical-align: top;\n",
       "    }\n",
       "\n",
       "    .dataframe thead th {\n",
       "        text-align: right;\n",
       "    }\n",
       "</style>\n",
       "<table border=\"1\" class=\"dataframe\">\n",
       "  <thead>\n",
       "    <tr style=\"text-align: right;\">\n",
       "      <th></th>\n",
       "      <th>Temperature</th>\n",
       "      <th>Humidity</th>\n",
       "      <th>Light</th>\n",
       "      <th>CO2</th>\n",
       "      <th>HumidityRatio</th>\n",
       "      <th>Occupancy</th>\n",
       "    </tr>\n",
       "  </thead>\n",
       "  <tbody>\n",
       "    <tr>\n",
       "      <th>count</th>\n",
       "      <td>8143.000000</td>\n",
       "      <td>8143.000000</td>\n",
       "      <td>8143.000000</td>\n",
       "      <td>8143.000000</td>\n",
       "      <td>8143.000000</td>\n",
       "      <td>8143.000000</td>\n",
       "    </tr>\n",
       "    <tr>\n",
       "      <th>mean</th>\n",
       "      <td>20.619084</td>\n",
       "      <td>25.731507</td>\n",
       "      <td>119.519375</td>\n",
       "      <td>606.546243</td>\n",
       "      <td>0.003863</td>\n",
       "      <td>0.212330</td>\n",
       "    </tr>\n",
       "    <tr>\n",
       "      <th>std</th>\n",
       "      <td>1.016916</td>\n",
       "      <td>5.531211</td>\n",
       "      <td>194.755805</td>\n",
       "      <td>314.320877</td>\n",
       "      <td>0.000852</td>\n",
       "      <td>0.408982</td>\n",
       "    </tr>\n",
       "    <tr>\n",
       "      <th>min</th>\n",
       "      <td>19.000000</td>\n",
       "      <td>16.745000</td>\n",
       "      <td>0.000000</td>\n",
       "      <td>412.750000</td>\n",
       "      <td>0.002674</td>\n",
       "      <td>0.000000</td>\n",
       "    </tr>\n",
       "    <tr>\n",
       "      <th>25%</th>\n",
       "      <td>19.700000</td>\n",
       "      <td>20.200000</td>\n",
       "      <td>0.000000</td>\n",
       "      <td>439.000000</td>\n",
       "      <td>0.003078</td>\n",
       "      <td>0.000000</td>\n",
       "    </tr>\n",
       "    <tr>\n",
       "      <th>50%</th>\n",
       "      <td>20.390000</td>\n",
       "      <td>26.222500</td>\n",
       "      <td>0.000000</td>\n",
       "      <td>453.500000</td>\n",
       "      <td>0.003801</td>\n",
       "      <td>0.000000</td>\n",
       "    </tr>\n",
       "    <tr>\n",
       "      <th>75%</th>\n",
       "      <td>21.390000</td>\n",
       "      <td>30.533333</td>\n",
       "      <td>256.375000</td>\n",
       "      <td>638.833333</td>\n",
       "      <td>0.004352</td>\n",
       "      <td>0.000000</td>\n",
       "    </tr>\n",
       "    <tr>\n",
       "      <th>max</th>\n",
       "      <td>23.180000</td>\n",
       "      <td>39.117500</td>\n",
       "      <td>1546.333333</td>\n",
       "      <td>2028.500000</td>\n",
       "      <td>0.006476</td>\n",
       "      <td>1.000000</td>\n",
       "    </tr>\n",
       "  </tbody>\n",
       "</table>\n",
       "</div>"
      ],
      "text/plain": [
       "       Temperature     Humidity        Light          CO2  HumidityRatio  \\\n",
       "count  8143.000000  8143.000000  8143.000000  8143.000000    8143.000000   \n",
       "mean     20.619084    25.731507   119.519375   606.546243       0.003863   \n",
       "std       1.016916     5.531211   194.755805   314.320877       0.000852   \n",
       "min      19.000000    16.745000     0.000000   412.750000       0.002674   \n",
       "25%      19.700000    20.200000     0.000000   439.000000       0.003078   \n",
       "50%      20.390000    26.222500     0.000000   453.500000       0.003801   \n",
       "75%      21.390000    30.533333   256.375000   638.833333       0.004352   \n",
       "max      23.180000    39.117500  1546.333333  2028.500000       0.006476   \n",
       "\n",
       "         Occupancy  \n",
       "count  8143.000000  \n",
       "mean      0.212330  \n",
       "std       0.408982  \n",
       "min       0.000000  \n",
       "25%       0.000000  \n",
       "50%       0.000000  \n",
       "75%       0.000000  \n",
       "max       1.000000  "
      ]
     },
     "execution_count": 177,
     "metadata": {},
     "output_type": "execute_result"
    }
   ],
   "source": [
    "data3.describe()"
   ]
  },
  {
   "cell_type": "code",
   "execution_count": 178,
   "id": "86a0a2a4",
   "metadata": {},
   "outputs": [],
   "source": [
    "#Verilerin Görselleştirilmesi"
   ]
  },
  {
   "cell_type": "code",
   "execution_count": 179,
   "id": "681475b0",
   "metadata": {},
   "outputs": [
    {
     "data": {
      "text/html": [
       "<div>\n",
       "<style scoped>\n",
       "    .dataframe tbody tr th:only-of-type {\n",
       "        vertical-align: middle;\n",
       "    }\n",
       "\n",
       "    .dataframe tbody tr th {\n",
       "        vertical-align: top;\n",
       "    }\n",
       "\n",
       "    .dataframe thead th {\n",
       "        text-align: right;\n",
       "    }\n",
       "</style>\n",
       "<table border=\"1\" class=\"dataframe\">\n",
       "  <thead>\n",
       "    <tr style=\"text-align: right;\">\n",
       "      <th></th>\n",
       "      <th>date</th>\n",
       "      <th>Temperature</th>\n",
       "      <th>Humidity</th>\n",
       "      <th>Light</th>\n",
       "      <th>CO2</th>\n",
       "      <th>HumidityRatio</th>\n",
       "      <th>Occupancy</th>\n",
       "    </tr>\n",
       "  </thead>\n",
       "  <tbody>\n",
       "    <tr>\n",
       "      <th>1</th>\n",
       "      <td>2015-02-04 17:51:00</td>\n",
       "      <td>23.18</td>\n",
       "      <td>27.2720</td>\n",
       "      <td>426.0</td>\n",
       "      <td>721.25</td>\n",
       "      <td>0.004793</td>\n",
       "      <td>1</td>\n",
       "    </tr>\n",
       "    <tr>\n",
       "      <th>2</th>\n",
       "      <td>2015-02-04 17:51:59</td>\n",
       "      <td>23.15</td>\n",
       "      <td>27.2675</td>\n",
       "      <td>429.5</td>\n",
       "      <td>714.00</td>\n",
       "      <td>0.004783</td>\n",
       "      <td>1</td>\n",
       "    </tr>\n",
       "    <tr>\n",
       "      <th>3</th>\n",
       "      <td>2015-02-04 17:53:00</td>\n",
       "      <td>23.15</td>\n",
       "      <td>27.2450</td>\n",
       "      <td>426.0</td>\n",
       "      <td>713.50</td>\n",
       "      <td>0.004779</td>\n",
       "      <td>1</td>\n",
       "    </tr>\n",
       "    <tr>\n",
       "      <th>4</th>\n",
       "      <td>2015-02-04 17:54:00</td>\n",
       "      <td>23.15</td>\n",
       "      <td>27.2000</td>\n",
       "      <td>426.0</td>\n",
       "      <td>708.25</td>\n",
       "      <td>0.004772</td>\n",
       "      <td>1</td>\n",
       "    </tr>\n",
       "    <tr>\n",
       "      <th>5</th>\n",
       "      <td>2015-02-04 17:55:00</td>\n",
       "      <td>23.10</td>\n",
       "      <td>27.2000</td>\n",
       "      <td>426.0</td>\n",
       "      <td>704.50</td>\n",
       "      <td>0.004757</td>\n",
       "      <td>1</td>\n",
       "    </tr>\n",
       "  </tbody>\n",
       "</table>\n",
       "</div>"
      ],
      "text/plain": [
       "                  date  Temperature  Humidity  Light     CO2  HumidityRatio  \\\n",
       "1  2015-02-04 17:51:00        23.18   27.2720  426.0  721.25       0.004793   \n",
       "2  2015-02-04 17:51:59        23.15   27.2675  429.5  714.00       0.004783   \n",
       "3  2015-02-04 17:53:00        23.15   27.2450  426.0  713.50       0.004779   \n",
       "4  2015-02-04 17:54:00        23.15   27.2000  426.0  708.25       0.004772   \n",
       "5  2015-02-04 17:55:00        23.10   27.2000  426.0  704.50       0.004757   \n",
       "\n",
       "   Occupancy  \n",
       "1          1  \n",
       "2          1  \n",
       "3          1  \n",
       "4          1  \n",
       "5          1  "
      ]
     },
     "execution_count": 179,
     "metadata": {},
     "output_type": "execute_result"
    }
   ],
   "source": [
    "data3.head()"
   ]
  },
  {
   "cell_type": "code",
   "execution_count": 180,
   "id": "f706e1be",
   "metadata": {},
   "outputs": [
    {
     "name": "stdout",
     "output_type": "stream",
     "text": [
      "                     date  Temperature  Humidity  Light         CO2  \\\n",
      "1     2015-02-04 17:51:00        23.18   27.2720  426.0  721.250000   \n",
      "2     2015-02-04 17:51:59        23.15   27.2675  429.5  714.000000   \n",
      "3     2015-02-04 17:53:00        23.15   27.2450  426.0  713.500000   \n",
      "4     2015-02-04 17:54:00        23.15   27.2000  426.0  708.250000   \n",
      "5     2015-02-04 17:55:00        23.10   27.2000  426.0  704.500000   \n",
      "...                   ...          ...       ...    ...         ...   \n",
      "8139  2015-02-10 09:29:00        21.05   36.0975  433.0  787.250000   \n",
      "8140  2015-02-10 09:29:59        21.05   35.9950  433.0  789.500000   \n",
      "8141  2015-02-10 09:30:59        21.10   36.0950  433.0  798.500000   \n",
      "8142  2015-02-10 09:32:00        21.10   36.2600  433.0  820.333333   \n",
      "8143  2015-02-10 09:33:00        21.10   36.2000  447.0  821.000000   \n",
      "\n",
      "      HumidityRatio  Occupancy  \n",
      "1          0.004793          1  \n",
      "2          0.004783          1  \n",
      "3          0.004779          1  \n",
      "4          0.004772          1  \n",
      "5          0.004757          1  \n",
      "...             ...        ...  \n",
      "8139       0.005579          1  \n",
      "8140       0.005563          1  \n",
      "8141       0.005596          1  \n",
      "8142       0.005621          1  \n",
      "8143       0.005612          1  \n",
      "\n",
      "[8143 rows x 7 columns]\n"
     ]
    },
    {
     "data": {
      "text/plain": [
       "<AxesSubplot:xlabel='date', ylabel='Temperature'>"
      ]
     },
     "execution_count": 180,
     "metadata": {},
     "output_type": "execute_result"
    },
    {
     "data": {
      "image/png": "[encoded data removed]",
      "text/plain": [
       "<Figure size 432x288 with 1 Axes>"
      ]
     },
     "metadata": {
      "needs_background": "light"
     },
     "output_type": "display_data"
    }
   ],
   "source": [
    "print(data3)\n",
    "sns.lineplot(data=data3,x='date',y='Temperature')"
   ]
  },
  {
   "cell_type": "code",
   "execution_count": 181,
   "id": "2a20abcd",
   "metadata": {},
   "outputs": [
    {
     "name": "stdout",
     "output_type": "stream",
     "text": [
      "Skewness: 0.450868\n",
      "Kurtosis: -0.810242\n"
     ]
    }
   ],
   "source": [
    "print(\"Skewness: %f\" % data3['Temperature'].skew())\n",
    "print(\"Kurtosis: %f\" % data3['Temperature'].kurt())"
   ]
  },
  {
   "cell_type": "code",
   "execution_count": 182,
   "id": "9c323ebb",
   "metadata": {},
   "outputs": [
    {
     "data": {
      "text/plain": [
       "<AxesSubplot:xlabel='date', ylabel='Humidity'>"
      ]
     },
     "execution_count": 182,
     "metadata": {},
     "output_type": "execute_result"
    },
    {
     "data": {
      "image/png": "[encoded data removed]",
      "text/plain": [
       "<Figure size 432x288 with 1 Axes>"
      ]
     },
     "metadata": {
      "needs_background": "light"
     },
     "output_type": "display_data"
    }
   ],
   "source": [
    "sns.lineplot(data=data3,x='date',y='Humidity')"
   ]
  },
  {
   "cell_type": "code",
   "execution_count": 183,
   "id": "7abdad58",
   "metadata": {},
   "outputs": [
    {
     "name": "stdout",
     "output_type": "stream",
     "text": [
      "Skewness: 0.272018\n",
      "Kurtosis: -0.931880\n"
     ]
    }
   ],
   "source": [
    "print(\"Skewness: %f\" % data3['Humidity'].skew())\n",
    "print(\"Kurtosis: %f\" % data3['Humidity'].kurt())"
   ]
  },
  {
   "cell_type": "code",
   "execution_count": 184,
   "id": "af4924a6",
   "metadata": {},
   "outputs": [
    {
     "data": {
      "text/plain": [
       "<AxesSubplot:xlabel='date', ylabel='Light'>"
      ]
     },
     "execution_count": 184,
     "metadata": {},
     "output_type": "execute_result"
    },
    {
     "data": {
      "image/png": "[encoded data removed]",
      "text/plain": [
       "<Figure size 432x288 with 1 Axes>"
      ]
     },
     "metadata": {
      "needs_background": "light"
     },
     "output_type": "display_data"
    }
   ],
   "source": [
    "sns.lineplot(data=data3,x='date',y='Light')"
   ]
  },
  {
   "cell_type": "code",
   "execution_count": 185,
   "id": "3de9529d",
   "metadata": {},
   "outputs": [
    {
     "name": "stdout",
     "output_type": "stream",
     "text": [
      "Skewness: 1.237440\n",
      "Kurtosis: 0.123152\n"
     ]
    }
   ],
   "source": [
    "print(\"Skewness: %f\" % data3['Light'].skew())\n",
    "print(\"Kurtosis: %f\" % data3['Light'].kurt())"
   ]
  },
  {
   "cell_type": "code",
   "execution_count": 186,
   "id": "f6b00aa7",
   "metadata": {},
   "outputs": [
    {
     "data": {
      "text/plain": [
       "<AxesSubplot:xlabel='date', ylabel='CO2'>"
      ]
     },
     "execution_count": 186,
     "metadata": {},
     "output_type": "execute_result"
    },
    {
     "data": {
      "image/png": "[encoded data removed]",
      "text/plain": [
       "<Figure size 432x288 with 1 Axes>"
      ]
     },
     "metadata": {
      "needs_background": "light"
     },
     "output_type": "display_data"
    }
   ],
   "source": [
    "sns.lineplot(data=data3,x='date',y='CO2')"
   ]
  },
  {
   "cell_type": "code",
   "execution_count": 187,
   "id": "dabfc868",
   "metadata": {},
   "outputs": [
    {
     "name": "stdout",
     "output_type": "stream",
     "text": [
      "Skewness: 2.380910\n",
      "Kurtosis: 5.775411\n"
     ]
    }
   ],
   "source": [
    "print(\"Skewness: %f\" % data3['CO2'].skew())\n",
    "print(\"Kurtosis: %f\" % data3['CO2'].kurt())"
   ]
  },
  {
   "cell_type": "code",
   "execution_count": 188,
   "id": "215c75d2",
   "metadata": {},
   "outputs": [
    {
     "data": {
      "text/plain": [
       "<AxesSubplot:xlabel='date', ylabel='HumidityRatio'>"
      ]
     },
     "execution_count": 188,
     "metadata": {},
     "output_type": "execute_result"
    },
    {
     "data": {
      "image/png": "[encoded data removed]",
      "text/plain": [
       "<Figure size 432x288 with 1 Axes>"
      ]
     },
     "metadata": {
      "needs_background": "light"
     },
     "output_type": "display_data"
    }
   ],
   "source": [
    "sns.lineplot(data=data3,x='date',y='HumidityRatio')"
   ]
  },
  {
   "cell_type": "code",
   "execution_count": 189,
   "id": "8dafffb0",
   "metadata": {},
   "outputs": [
    {
     "name": "stdout",
     "output_type": "stream",
     "text": [
      "Skewness: 0.616681\n",
      "Kurtosis: 0.039355\n"
     ]
    }
   ],
   "source": [
    "print(\"Skewness: %f\" % data3['HumidityRatio'].skew())\n",
    "print(\"Kurtosis: %f\" % data3['HumidityRatio'].kurt())"
   ]
  },
  {
   "cell_type": "code",
   "execution_count": 190,
   "id": "1c254262",
   "metadata": {},
   "outputs": [
    {
     "data": {
      "text/plain": [
       "<AxesSubplot:xlabel='date', ylabel='Occupancy'>"
      ]
     },
     "execution_count": 190,
     "metadata": {},
     "output_type": "execute_result"
    },
    {
     "data": {
      "image/png": "[encoded data removed]",
      "text/plain": [
       "<Figure size 432x288 with 1 Axes>"
      ]
     },
     "metadata": {
      "needs_background": "light"
     },
     "output_type": "display_data"
    }
   ],
   "source": [
    "sns.lineplot(data=data3,x='date',y='Occupancy')"
   ]
  },
  {
   "cell_type": "code",
   "execution_count": 191,
   "id": "539ab13b",
   "metadata": {},
   "outputs": [
    {
     "data": {
      "text/plain": [
       "<AxesSubplot:>"
      ]
     },
     "execution_count": 191,
     "metadata": {},
     "output_type": "execute_result"
    },
    {
     "data": {
      "image/png": "[encoded data removed]",
      "text/plain": [
       "<Figure size 720x576 with 2 Axes>"
      ]
     },
     "metadata": {
      "needs_background": "light"
     },
     "output_type": "display_data"
    }
   ],
   "source": [
    "f, ax = plt.subplots(figsize=(10, 8))\n",
    "corr3 = data3.corr()\n",
    "sns.heatmap(corr3, mask=np.zeros_like(corr3, dtype=bool),\n",
    "            cmap=sns.diverging_palette(220, 10, as_cmap=True),\n",
    "            square=True, ax=ax)"
   ]
  },
  {
   "cell_type": "code",
   "execution_count": 192,
   "id": "95faf11f",
   "metadata": {},
   "outputs": [
    {
     "data": {
      "image/png": "[encoded data removed]",
      "text/plain": [
       "<Figure size 432x288 with 2 Axes>"
      ]
     },
     "metadata": {
      "needs_background": "light"
     },
     "output_type": "display_data"
    }
   ],
   "source": [
    "sns.heatmap(corr3, annot = True)\n",
    "plt.show()"
   ]
  },
  {
   "cell_type": "code",
   "execution_count": 193,
   "id": "b49972a7",
   "metadata": {},
   "outputs": [
    {
     "name": "stdout",
     "output_type": "stream",
     "text": [
      "Skewness: 1.407109\n",
      "Kurtosis: -0.020050\n"
     ]
    }
   ],
   "source": [
    "print(\"Skewness: %f\" % data3['Occupancy'].skew())\n",
    "print(\"Kurtosis: %f\" % data3['Occupancy'].kurt())"
   ]
  },
  {
   "cell_type": "code",
   "execution_count": 194,
   "id": "9adb4ff8",
   "metadata": {},
   "outputs": [],
   "source": [
    "data3.loc[data3['Temperature'] < 19 ,'Temperature'] = 20.619084\n",
    "data3.loc[data3['Temperature'] > 23,'Temperature'] = 20.619084"
   ]
  },
  {
   "cell_type": "code",
   "execution_count": 195,
   "id": "c664ba21",
   "metadata": {},
   "outputs": [],
   "source": [
    "data3.loc[data3['Humidity'] < 15 ,'Humidity'] = 25.731507\n",
    "data3.loc[data3['Humidity'] > 38,'Humidity'] = 25.731507"
   ]
  },
  {
   "cell_type": "code",
   "execution_count": 196,
   "id": "0264a1da",
   "metadata": {},
   "outputs": [],
   "source": [
    "data3.loc[data3['Light'] < 0 ,'Light'] = 119.519375\n",
    "data3.loc[data3['Light'] > 1500,'Light'] = 119.519375"
   ]
  },
  {
   "cell_type": "code",
   "execution_count": 197,
   "id": "2e135369",
   "metadata": {},
   "outputs": [],
   "source": [
    "data3.loc[data3['CO2'] < 400 ,'CO2'] = 606.546243\n",
    "data3.loc[data3['CO2'] > 2000,'CO2'] = 606.546243"
   ]
  },
  {
   "cell_type": "code",
   "execution_count": 198,
   "id": "a626fb35",
   "metadata": {},
   "outputs": [],
   "source": [
    "data3.loc[data3['HumidityRatio'] < 0.0027,'HumidityRatio'] = 0.003863\n",
    "data3.loc[data3['HumidityRatio'] > 0.0063,'HumidityRatio'] = 0.003863"
   ]
  },
  {
   "cell_type": "code",
   "execution_count": 199,
   "id": "96f3ecdf",
   "metadata": {},
   "outputs": [],
   "source": [
    "data3.loc[data3['Occupancy'] < 0,'Occupancy'] = 0.212330\n",
    "data3.loc[data3['Occupancy'] > 1,'Occupancy'] = 0.212330"
   ]
  },
  {
   "cell_type": "code",
   "execution_count": 200,
   "id": "a01ddae4",
   "metadata": {},
   "outputs": [
    {
     "data": {
      "text/plain": [
       "False"
      ]
     },
     "execution_count": 200,
     "metadata": {},
     "output_type": "execute_result"
    }
   ],
   "source": [
    "data3.isnull().values.any()"
   ]
  },
  {
   "cell_type": "code",
   "execution_count": 201,
   "id": "be0c7a5a",
   "metadata": {
    "scrolled": false
   },
   "outputs": [
    {
     "name": "stdout",
     "output_type": "stream",
     "text": [
      "Train columns with null values:\n",
      " date             0\n",
      "Temperature      0\n",
      "Humidity         0\n",
      "Light            0\n",
      "CO2              0\n",
      "HumidityRatio    0\n",
      "Occupancy        0\n",
      "dtype: int64\n",
      "----------\n",
      "Test/Validation columns with null values:\n",
      " date             0\n",
      "Temperature      0\n",
      "Humidity         0\n",
      "Light            0\n",
      "CO2              0\n",
      "HumidityRatio    0\n",
      "Occupancy        0\n",
      "dtype: int64\n",
      "----------\n"
     ]
    },
    {
     "data": {
      "text/html": [
       "<div>\n",
       "<style scoped>\n",
       "    .dataframe tbody tr th:only-of-type {\n",
       "        vertical-align: middle;\n",
       "    }\n",
       "\n",
       "    .dataframe tbody tr th {\n",
       "        vertical-align: top;\n",
       "    }\n",
       "\n",
       "    .dataframe thead th {\n",
       "        text-align: right;\n",
       "    }\n",
       "</style>\n",
       "<table border=\"1\" class=\"dataframe\">\n",
       "  <thead>\n",
       "    <tr style=\"text-align: right;\">\n",
       "      <th></th>\n",
       "      <th>date</th>\n",
       "      <th>Temperature</th>\n",
       "      <th>Humidity</th>\n",
       "      <th>Light</th>\n",
       "      <th>CO2</th>\n",
       "      <th>HumidityRatio</th>\n",
       "      <th>Occupancy</th>\n",
       "    </tr>\n",
       "  </thead>\n",
       "  <tbody>\n",
       "    <tr>\n",
       "      <th>count</th>\n",
       "      <td>8143</td>\n",
       "      <td>8143.000000</td>\n",
       "      <td>8143.000000</td>\n",
       "      <td>8143.000000</td>\n",
       "      <td>8143.000000</td>\n",
       "      <td>8143.000000</td>\n",
       "      <td>8143.000000</td>\n",
       "    </tr>\n",
       "    <tr>\n",
       "      <th>unique</th>\n",
       "      <td>8143</td>\n",
       "      <td>NaN</td>\n",
       "      <td>NaN</td>\n",
       "      <td>NaN</td>\n",
       "      <td>NaN</td>\n",
       "      <td>NaN</td>\n",
       "      <td>NaN</td>\n",
       "    </tr>\n",
       "    <tr>\n",
       "      <th>top</th>\n",
       "      <td>2015-02-04 17:51:00</td>\n",
       "      <td>NaN</td>\n",
       "      <td>NaN</td>\n",
       "      <td>NaN</td>\n",
       "      <td>NaN</td>\n",
       "      <td>NaN</td>\n",
       "      <td>NaN</td>\n",
       "    </tr>\n",
       "    <tr>\n",
       "      <th>freq</th>\n",
       "      <td>1</td>\n",
       "      <td>NaN</td>\n",
       "      <td>NaN</td>\n",
       "      <td>NaN</td>\n",
       "      <td>NaN</td>\n",
       "      <td>NaN</td>\n",
       "      <td>NaN</td>\n",
       "    </tr>\n",
       "    <tr>\n",
       "      <th>mean</th>\n",
       "      <td>NaN</td>\n",
       "      <td>20.597565</td>\n",
       "      <td>25.535670</td>\n",
       "      <td>119.344155</td>\n",
       "      <td>599.459182</td>\n",
       "      <td>0.003847</td>\n",
       "      <td>0.212330</td>\n",
       "    </tr>\n",
       "    <tr>\n",
       "      <th>std</th>\n",
       "      <td>NaN</td>\n",
       "      <td>0.990219</td>\n",
       "      <td>5.292933</td>\n",
       "      <td>194.112741</td>\n",
       "      <td>297.943566</td>\n",
       "      <td>0.000790</td>\n",
       "      <td>0.408982</td>\n",
       "    </tr>\n",
       "    <tr>\n",
       "      <th>min</th>\n",
       "      <td>NaN</td>\n",
       "      <td>19.000000</td>\n",
       "      <td>16.745000</td>\n",
       "      <td>0.000000</td>\n",
       "      <td>412.750000</td>\n",
       "      <td>0.002700</td>\n",
       "      <td>0.000000</td>\n",
       "    </tr>\n",
       "    <tr>\n",
       "      <th>25%</th>\n",
       "      <td>NaN</td>\n",
       "      <td>19.700000</td>\n",
       "      <td>20.200000</td>\n",
       "      <td>0.000000</td>\n",
       "      <td>439.000000</td>\n",
       "      <td>0.003119</td>\n",
       "      <td>0.000000</td>\n",
       "    </tr>\n",
       "    <tr>\n",
       "      <th>50%</th>\n",
       "      <td>NaN</td>\n",
       "      <td>20.390000</td>\n",
       "      <td>26.100000</td>\n",
       "      <td>0.000000</td>\n",
       "      <td>453.500000</td>\n",
       "      <td>0.003815</td>\n",
       "      <td>0.000000</td>\n",
       "    </tr>\n",
       "    <tr>\n",
       "      <th>75%</th>\n",
       "      <td>NaN</td>\n",
       "      <td>21.315000</td>\n",
       "      <td>30.000000</td>\n",
       "      <td>255.750000</td>\n",
       "      <td>627.250000</td>\n",
       "      <td>0.004333</td>\n",
       "      <td>0.000000</td>\n",
       "    </tr>\n",
       "    <tr>\n",
       "      <th>max</th>\n",
       "      <td>NaN</td>\n",
       "      <td>23.000000</td>\n",
       "      <td>37.975000</td>\n",
       "      <td>1451.750000</td>\n",
       "      <td>2000.000000</td>\n",
       "      <td>0.006297</td>\n",
       "      <td>1.000000</td>\n",
       "    </tr>\n",
       "  </tbody>\n",
       "</table>\n",
       "</div>"
      ],
      "text/plain": [
       "                       date  Temperature     Humidity        Light  \\\n",
       "count                  8143  8143.000000  8143.000000  8143.000000   \n",
       "unique                 8143          NaN          NaN          NaN   \n",
       "top     2015-02-04 17:51:00          NaN          NaN          NaN   \n",
       "freq                      1          NaN          NaN          NaN   \n",
       "mean                    NaN    20.597565    25.535670   119.344155   \n",
       "std                     NaN     0.990219     5.292933   194.112741   \n",
       "min                     NaN    19.000000    16.745000     0.000000   \n",
       "25%                     NaN    19.700000    20.200000     0.000000   \n",
       "50%                     NaN    20.390000    26.100000     0.000000   \n",
       "75%                     NaN    21.315000    30.000000   255.750000   \n",
       "max                     NaN    23.000000    37.975000  1451.750000   \n",
       "\n",
       "                CO2  HumidityRatio    Occupancy  \n",
       "count   8143.000000    8143.000000  8143.000000  \n",
       "unique          NaN            NaN          NaN  \n",
       "top             NaN            NaN          NaN  \n",
       "freq            NaN            NaN          NaN  \n",
       "mean     599.459182       0.003847     0.212330  \n",
       "std      297.943566       0.000790     0.408982  \n",
       "min      412.750000       0.002700     0.000000  \n",
       "25%      439.000000       0.003119     0.000000  \n",
       "50%      453.500000       0.003815     0.000000  \n",
       "75%      627.250000       0.004333     0.000000  \n",
       "max     2000.000000       0.006297     1.000000  "
      ]
     },
     "execution_count": 201,
     "metadata": {},
     "output_type": "execute_result"
    }
   ],
   "source": [
    "print('Train columns with null values:\\n', data.isnull().sum())\n",
    "print(\"-\"*10)\n",
    "\n",
    "print('Test/Validation columns with null values:\\n', data2.isnull().sum())\n",
    "print(\"-\"*10)\n",
    "\n",
    "\n",
    "data3.describe(include = 'all')"
   ]
  },
  {
   "cell_type": "code",
   "execution_count": 202,
   "id": "b3c867bc",
   "metadata": {
    "scrolled": false
   },
   "outputs": [],
   "source": [
    "feature_names = ['Temperature', 'Humidity', 'Light', 'CO2', 'HumidityRatio', 'Occupancy']\n",
    "X = data3[feature_names]\n",
    "y = data3.Occupancy"
   ]
  },
  {
   "cell_type": "code",
   "execution_count": 203,
   "id": "06a13c55",
   "metadata": {},
   "outputs": [],
   "source": [
    "iris_dataset = load_iris()\n",
    "X = iris_dataset.data\n",
    "y = iris_dataset.target"
   ]
  },
  {
   "cell_type": "code",
   "execution_count": 204,
   "id": "a4967d6e",
   "metadata": {},
   "outputs": [],
   "source": [
    "X = X.astype(int)"
   ]
  },
  {
   "cell_type": "code",
   "execution_count": 205,
   "id": "00693b3b",
   "metadata": {},
   "outputs": [
    {
     "data": {
      "text/plain": [
       "ExtraTreesClassifier(criterion='entropy', max_features=2, n_estimators=5)"
      ]
     },
     "execution_count": 205,
     "metadata": {},
     "output_type": "execute_result"
    }
   ],
   "source": [
    "extra_tree_forest = ExtraTreesClassifier(n_estimators = 5,\n",
    "                                        criterion ='entropy', max_features = 2)\n",
    "  \n",
    "extra_tree_forest.fit(X, y)"
   ]
  },
  {
   "cell_type": "code",
   "execution_count": 206,
   "id": "3043e164",
   "metadata": {},
   "outputs": [],
   "source": [
    "feature_importance = extra_tree_forest.feature_importances_\n",
    "  \n",
    "feature_importance_normalized = np.std([tree.feature_importances_ for tree in \n",
    "                                        extra_tree_forest.estimators_],\n",
    "                                        axis = 0)"
   ]
  },
  {
   "cell_type": "code",
   "execution_count": 207,
   "id": "62a0dd67",
   "metadata": {},
   "outputs": [
    {
     "data": {
      "image/png": "[encoded data removed]",
      "text/plain": [
       "<Figure size 432x288 with 1 Axes>"
      ]
     },
     "metadata": {
      "needs_background": "light"
     },
     "output_type": "display_data"
    }
   ],
   "source": [
    "plt.bar(iris_dataset.feature_names, feature_importance_normalized)\n",
    "plt.xlabel('Feature Labels')\n",
    "plt.ylabel('Feature Importances')\n",
    "plt.title('Comparison of different Feature Importances')\n",
    "plt.show()"
   ]
  },
  {
   "cell_type": "code",
   "execution_count": 208,
   "id": "0d53d763",
   "metadata": {},
   "outputs": [
    {
     "name": "stdout",
     "output_type": "stream",
     "text": [
      "The original range : 2015-02-04 00:00:00 2015-02-10 00:00:00\n",
      "Total business days in range : 4\n"
     ]
    }
   ],
   "source": [
    "test_date1, test_date2 = datetime(2015, 2, 4), datetime(2015, 2, 10)\n",
    "  \n",
    "# printing dates\n",
    "print(\"The original range : \" + str(test_date1) + \" \" + str(test_date2))\n",
    "  \n",
    "# generating dates\n",
    "dates = (test_date1 + timedelta(idx + 1)\n",
    "         for idx in range((test_date2 - test_date1).days))\n",
    "  \n",
    "# summing all weekdays\n",
    "res = sum(1 for day in dates if day.weekday() < 5)\n",
    "  \n",
    "# printing\n",
    "print(\"Total business days in range : \" + str(res))"
   ]
  },
  {
   "cell_type": "code",
   "execution_count": 209,
   "id": "8015c36a",
   "metadata": {},
   "outputs": [
    {
     "data": {
      "text/plain": [
       "2015-02-04    2\n",
       "2015-02-05    3\n",
       "2015-02-06    4\n",
       "2015-02-07    5\n",
       "2015-02-08    6\n",
       "2015-02-09    0\n",
       "2015-02-10    1\n",
       "Freq: D, dtype: int64"
      ]
     },
     "execution_count": 209,
     "metadata": {},
     "output_type": "execute_result"
    }
   ],
   "source": [
    "s3 = pd.date_range('2015-02-04', '2015-02-10', freq='D').to_series()\n",
    "s3.dt.dayofweek\n",
    "# 0:Monday...6:Sunday "
   ]
  },
  {
   "cell_type": "code",
   "execution_count": 210,
   "id": "7ccf80e8",
   "metadata": {},
   "outputs": [
    {
     "name": "stdout",
     "output_type": "stream",
     "text": [
      "Confusion Matrix : \n",
      " [[1284   14]\n",
      " [   2  329]]\n",
      "Accuracy :  0.9923116350589442\n",
      "Precision:  0.9656862745098039\n",
      "Recall:  0.9974683544303797\n"
     ]
    }
   ],
   "source": [
    "X3 = data3.iloc[:,1:6]\n",
    "y3 = data3['Occupancy']\n",
    "num_test = 0.20\n",
    "X3_train, X3_test, y3_train, y3_test = train_test_split(X3, y3, test_size=num_test, random_state=23)\n",
    "regressor = LinearRegression()\n",
    "regressor.fit(X3_test, y3_test)\n",
    "classifier = LogisticRegression(random_state = 0)\n",
    "classifier.fit(X3_test, y3_test)\n",
    "y3_pred = classifier.predict(X3_test)\n",
    "cm3 = confusion_matrix(y3_test, y3_pred)\n",
    "ac3 = accuracy_score(y2_test, y2_pred)\n",
    "pre3 = precision_score(y2_test, y2_pred)\n",
    "rec3 = recall_score(y2_test, y2_pred)\n",
    " \n",
    "print (\"Confusion Matrix : \\n\", cm3)\n",
    "print (\"Accuracy : \", ac3)\n",
    "print (\"Precision: \", pre3)\n",
    "print (\"Recall: \", rec3)"
   ]
  },
  {
   "cell_type": "code",
   "execution_count": 211,
   "id": "1c78a27f",
   "metadata": {},
   "outputs": [
    {
     "name": "stdout",
     "output_type": "stream",
     "text": [
      "+--------------------+\n",
      "|      Results       |\n",
      "+--------------------+\n",
      "| 0.9923116350589442 |\n",
      "|    [[1284   14]    |\n",
      "|    [   2  329]]    |\n",
      "| 0.9656862745098039 |\n",
      "| 0.9974683544303797 |\n",
      "+--------------------+\n"
     ]
    }
   ],
   "source": [
    "myTable = PrettyTable([\"Results\"])\n",
    " \n",
    "myTable.add_row([ac3])\n",
    "myTable.add_row([cm3])\n",
    "myTable.add_row([pre3])\n",
    "myTable.add_row([rec3])\n",
    " \n",
    "print(myTable)"
   ]
  },
  {
   "cell_type": "code",
   "execution_count": 212,
   "id": "a7d3e6b1",
   "metadata": {},
   "outputs": [],
   "source": [
    "def get_mae(max_leaf_nodes, X3_train, X3_test, y3_train, y3_test):\n",
    "    model = DecisionTreeRegressor(max_leaf_nodes=max_leaf_nodes, random_state=0)\n",
    "    model.fit(X3_train, y3_train)\n",
    "    y3_pred = model.predict(X3_test)\n",
    "    mae = mean_absolute_error(y3_test, y3_pred)\n",
    "    return(mae)"
   ]
  },
  {
   "cell_type": "code",
   "execution_count": 213,
   "id": "8487d2a9",
   "metadata": {},
   "outputs": [
    {
     "name": "stdout",
     "output_type": "stream",
     "text": [
      "Max leaf nodes: 5  \t\t Mean Absolute Error:  0\n",
      "Max leaf nodes: 50  \t\t Mean Absolute Error:  0\n",
      "Max leaf nodes: 500  \t\t Mean Absolute Error:  0\n",
      "Max leaf nodes: 5000  \t\t Mean Absolute Error:  0\n"
     ]
    }
   ],
   "source": [
    "for max_leaf_nodes in [5, 50, 500, 5000]:\n",
    "    my_mae = get_mae(max_leaf_nodes, X3_train, X3_test, y3_train, y3_test)\n",
    "    print(\"Max leaf nodes: %d  \\t\\t Mean Absolute Error:  %d\" %(max_leaf_nodes, my_mae))"
   ]
  }
 ],
 "metadata": {
  "kernelspec": {
   "display_name": "Python 3 (ipykernel)",
   "language": "python",
   "name": "python3"
  },
  "language_info": {
   "codemirror_mode": {
    "name": "ipython",
    "version": 3
   },
   "file_extension": ".py",
   "mimetype": "text/x-python",
   "name": "python",
   "nbconvert_exporter": "python",
   "pygments_lexer": "ipython3",
   "version": "3.9.12"
  }
 },
 "nbformat": 4,
 "nbformat_minor": 5
}
